{
  "nbformat": 4,
  "nbformat_minor": 0,
  "metadata": {
    "colab": {
      "provenance": [],
      "authorship_tag": "ABX9TyN8WrWPTARJpJwTQdmZCq/v",
      "include_colab_link": true
    },
    "kernelspec": {
      "name": "python3",
      "display_name": "Python 3"
    },
    "language_info": {
      "name": "python"
    }
  },
  "cells": [
    {
      "cell_type": "markdown",
      "metadata": {
        "id": "view-in-github",
        "colab_type": "text"
      },
      "source": [
        "<a href=\"https://colab.research.google.com/github/Kunik-C/Assignmnet/blob/main/Numpy_assignment.ipynb\" target=\"_parent\"><img src=\"https://colab.research.google.com/assets/colab-badge.svg\" alt=\"Open In Colab\"/></a>"
      ]
    },
    {
      "cell_type": "markdown",
      "source": [
        "# ***THEORETICAL QUESTIONS***\n",
        "\n",
        "\\\n",
        "\n",
        "\\\n",
        "\n",
        "\\\n",
        "\n",
        "\n",
        "\n",
        "\n",
        "# **Q1. Explain the purpose and advantages of NumPy in scientific computing and data analysis. How does it enhance Python's capabilities for numerical operations?**\n",
        "\n",
        "**Ans.**\n",
        "\n",
        "## **Purpose of NumPy**\n",
        "\n",
        "**Multidimensional Arrays**:\n",
        "\n",
        " At its core, NumPy introduces the ndarray object, a multidimensional array that allows for vectorized operations. These arrays are more efficient than Python lists when handling large datasets or complex numerical computations.\n",
        "\n",
        "**Mathematical Functions**:\n",
        "\n",
        " NumPy comes with a large collection of optimized mathematical functions, including trigonometric, statistical, algebraic, and linear algebra operations, designed to operate directly on arrays or matrices, which drastically reduces the amount of code needed for complex calculations.\n",
        "\n",
        "**Interfacing with Low-Level Languages**:\n",
        "\n",
        "NumPy provides tools to interface with C, C++, and Fortran, which means that highly optimized, low-level code can be utilized for computationally intensive tasks, further improving performance.\n",
        "\n",
        "## **Advantages of NumPy in Scientific Computing and Data Analysis**\n",
        "\n",
        "\n",
        "**Efficiency and Speed**:\n",
        "\n",
        "NumPy arrays are more efficient than Python lists because they are stored in contiguous memory blocks, allowing for fast data access and processing. They are implemented in C, so operations on large arrays are much faster than looping through lists in pure Python.\n",
        "\n",
        "**Vectorized Operations**:\n",
        "\n",
        " NumPy allows for vectorized operations, meaning you can apply operations to entire arrays without the need for explicit loops. This not only simplifies code but also enhances performance by reducing overhead associated with loops."
      ],
      "metadata": {
        "id": "kMfhHvuvXLCY"
      }
    },
    {
      "cell_type": "code",
      "source": [
        "#example code\n",
        "import numpy as np\n",
        "a = np.array([1, 2, 3])\n",
        "b = np.array([4, 5, 6])\n",
        "c = a + b  # Vectorized operation"
      ],
      "metadata": {
        "id": "dk8SqLV-zOud"
      },
      "execution_count": 1,
      "outputs": []
    },
    {
      "cell_type": "markdown",
      "source": [
        "**Broadcasting**:\n",
        "\n",
        "Broadcasting in NumPy allows for operations between arrays of different shapes by \"stretching\" the smaller array, making mathematical operations flexible without needing to reshape data manually.\n",
        "\n",
        "**Memory Efficiency**:\n",
        "\n",
        "NumPy uses less memory than Python’s built-in lists. This is especially important when working with large datasets, such as in scientific computing or machine learning tasks.\n",
        "\n",
        "**Wide Ecosystem Support**:\n",
        "\n",
        "NumPy is the foundation of many other scientific libraries in Python, including pandas, SciPy, TensorFlow, and scikit-learn. Its array manipulation capabilities make it a critical component of the entire Python data science ecosystem.\n",
        "\n",
        "**Random Number Generation**:\n",
        "\n",
        " NumPy has a powerful random number generation library, useful for simulations, probabilistic models, and machine learning applications.\n",
        "\n",
        "**Integration with Other Tools**:\n",
        "\n",
        " NumPy integrates well with many other tools in scientific computing and data analysis. For instance, it can be combined with pandas for data manipulation or with matplotlib for visualization."
      ],
      "metadata": {
        "id": "WTWTFx2ezR5o"
      }
    },
    {
      "cell_type": "markdown",
      "source": [
        "# **Q2. Compare and contrast np.mean() and np.average() functions in NumPy. When would you use one over the other?**\n",
        "\n",
        "**Ans.**\n",
        "\n",
        "In NumPy, both np.mean() and np.average() are used to compute the central tendency of an array, but they differ in functionality and flexibility\n",
        "\n",
        "## **1.  np.mean() Function**\n",
        "The np.mean() function calculates the arithmetic mean (average) of the elements in an array along a specified axis. It is simple and straightforward, operating on the array as a whole or on a specific axis (e.g., row-wise or column-wise).\n",
        "\n",
        "**Syntax:**\n",
        "\n",
        "    np.mean(a, axis=None, dtype=None, out=None, keepdims=False)\n",
        "    \n",
        "\n",
        "**Key Features:**\n",
        "\n",
        "**No weights**: It treats all elements equally when calculating the mean.\n",
        "\n",
        "**Axes flexibility**: You can compute the mean along specific axes of a multidimensional array.\n",
        "\n"
      ],
      "metadata": {
        "id": "0WMIrAjbzg1j"
      }
    },
    {
      "cell_type": "code",
      "source": [
        "#example\n",
        "import numpy as np\n",
        "arr = np.array([1, 2, 3, 4])\n",
        "print(np.mean(arr))"
      ],
      "metadata": {
        "colab": {
          "base_uri": "https://localhost:8080/"
        },
        "id": "VA9Vtjwoz_zG",
        "outputId": "4d854e12-34a1-4aed-cf52-a0e8865af4cb"
      },
      "execution_count": 2,
      "outputs": [
        {
          "output_type": "stream",
          "name": "stdout",
          "text": [
            "2.5\n"
          ]
        }
      ]
    },
    {
      "cell_type": "markdown",
      "source": [
        "**Use Case**:\n",
        "\n",
        "Use np.mean() when you want to calculate the arithmetic mean without considering weights.\n",
        "\n",
        "## **2. np.average() Function**\n",
        "The np.average() function is similar to np.mean() but offers an additional feature: it can compute a weighted average if weights are provided.\n",
        "\n",
        "Syntax:\n",
        "\n",
        "    np.average(a, axis=None, weights=None, returned=False)\n",
        "\n",
        "**Key Features:**\n",
        "\n",
        "**Weights**: You can pass a weights argument, which allows certain elements to contribute more (or less) to the final result.\n",
        "\n",
        "**Return sum of weights**: The returned parameter, when set to True, will return a tuple containing the weighted average and the sum of the weights.\n",
        "\n"
      ],
      "metadata": {
        "id": "QPZbN__-0D3n"
      }
    },
    {
      "cell_type": "code",
      "source": [
        "#example\n",
        "import numpy as np\n",
        "arr = np.array([1, 2, 3, 4])\n",
        "weights = np.array([1, 2, 3, 4])\n",
        "print(np.average(arr, weights=weights))"
      ],
      "metadata": {
        "colab": {
          "base_uri": "https://localhost:8080/"
        },
        "id": "OjSuJnAj0kn7",
        "outputId": "5d41a15b-8c80-4b93-958b-11a3bec69ef8"
      },
      "execution_count": 3,
      "outputs": [
        {
          "output_type": "stream",
          "name": "stdout",
          "text": [
            "3.0\n"
          ]
        }
      ]
    },
    {
      "cell_type": "markdown",
      "source": [
        "In this case, the values in arr are weighted according to the corresponding values in weights.\n",
        "\n",
        "**Use Case**:\n",
        "\n",
        "Use np.average() when you need to compute the weighted average of an array. It is particularly useful when dealing with data where certain values should have more importance than others."
      ],
      "metadata": {
        "id": "e8IX0QXx0nm_"
      }
    },
    {
      "cell_type": "markdown",
      "source": [
        "# **Q3. Describe the methods for reversing a NumPy array along different axes. Provide examples for 1D and 2D arrays.**\n",
        "\n",
        "**Ans.**\n",
        "\n",
        "In NumPy, you can reverse an array along different axes using several methods. These approaches work for both 1D and multidimensional arrays, such as 2D arrays (matrices)\n",
        "\n",
        "## **1. Using Slicing ([::-1])**\n",
        "Slicing is the most straightforward way to reverse an array in NumPy. The [::-1] notation means \"take the array and reverse it.\"\n",
        "\n"
      ],
      "metadata": {
        "id": "_tbK-7qn0yPd"
      }
    },
    {
      "cell_type": "code",
      "source": [
        "#1D Array Example\n",
        "import numpy as np\n",
        "\n",
        "arr = np.array([1, 2, 3, 4, 5])\n",
        "reversed_arr = arr[::-1]\n",
        "print(reversed_arr)"
      ],
      "metadata": {
        "colab": {
          "base_uri": "https://localhost:8080/"
        },
        "id": "VjEz0Bnd1Eae",
        "outputId": "be551f7f-6eba-4e63-cfef-57cfe170bf2b"
      },
      "execution_count": 4,
      "outputs": [
        {
          "output_type": "stream",
          "name": "stdout",
          "text": [
            "[5 4 3 2 1]\n"
          ]
        }
      ]
    },
    {
      "cell_type": "code",
      "source": [
        "#2D Array Example\n",
        "arr_2d = np.array([[1, 2, 3], [4, 5, 6], [7, 8, 9]])\n",
        "reversed_arr_2d = arr_2d[::-1]\n",
        "print(reversed_arr_2d)\n",
        "\n"
      ],
      "metadata": {
        "colab": {
          "base_uri": "https://localhost:8080/"
        },
        "id": "CNtHkG4B1Gr0",
        "outputId": "9c2c9d7e-14a1-449a-9cf7-36039b6c537e"
      },
      "execution_count": 9,
      "outputs": [
        {
          "output_type": "stream",
          "name": "stdout",
          "text": [
            "[[7 8 9]\n",
            " [4 5 6]\n",
            " [1 2 3]]\n"
          ]
        }
      ]
    },
    {
      "cell_type": "code",
      "source": [
        "#To reverse the columns (axis 1), you can slice the second axis:\n",
        "reversed_cols = arr_2d[:, ::-1]\n",
        "print(reversed_cols)"
      ],
      "metadata": {
        "colab": {
          "base_uri": "https://localhost:8080/"
        },
        "id": "bgS-7pHZ1g8J",
        "outputId": "3e6cd842-f29e-4d1e-8a8b-1c656c9a74a5"
      },
      "execution_count": 10,
      "outputs": [
        {
          "output_type": "stream",
          "name": "stdout",
          "text": [
            "[[3 2 1]\n",
            " [6 5 4]\n",
            " [9 8 7]]\n"
          ]
        }
      ]
    },
    {
      "cell_type": "markdown",
      "source": [
        "## **2. Using np.flip()**\n",
        "np.flip() is a built-in NumPy function that can reverse an array along any specified axis or all axes."
      ],
      "metadata": {
        "id": "Ngeu8jsk1MIS"
      }
    },
    {
      "cell_type": "code",
      "source": [
        "#1D Array Example\n",
        "reversed_arr_flip = np.flip(arr)\n",
        "print(reversed_arr_flip)"
      ],
      "metadata": {
        "colab": {
          "base_uri": "https://localhost:8080/"
        },
        "id": "h4y3fiXD1Q4z",
        "outputId": "1b00384e-06cc-404f-f009-690142cc7231"
      },
      "execution_count": 6,
      "outputs": [
        {
          "output_type": "stream",
          "name": "stdout",
          "text": [
            "[5 4 3 2 1]\n"
          ]
        }
      ]
    },
    {
      "cell_type": "code",
      "source": [
        "#2D Array Example\n",
        "reversed_rows_flip = np.flip(arr_2d, axis=0)\n",
        "print(reversed_rows_flip)"
      ],
      "metadata": {
        "colab": {
          "base_uri": "https://localhost:8080/"
        },
        "id": "08fXKv2-1TJ3",
        "outputId": "0952c35b-1790-40f8-8d57-1febdc2a1a90"
      },
      "execution_count": 7,
      "outputs": [
        {
          "output_type": "stream",
          "name": "stdout",
          "text": [
            "[[7 8 9]\n",
            " [4 5 6]\n",
            " [1 2 3]]\n"
          ]
        }
      ]
    },
    {
      "cell_type": "code",
      "source": [
        "#To reverse columns (axis 1)\n",
        "reversed_cols_flip = np.flip(arr_2d, axis=1)\n",
        "print(reversed_cols_flip)"
      ],
      "metadata": {
        "colab": {
          "base_uri": "https://localhost:8080/"
        },
        "id": "bTCoLFqd1i0c",
        "outputId": "ee09fe1d-0279-4cc6-c562-4753008b0243"
      },
      "execution_count": 11,
      "outputs": [
        {
          "output_type": "stream",
          "name": "stdout",
          "text": [
            "[[3 2 1]\n",
            " [6 5 4]\n",
            " [9 8 7]]\n"
          ]
        }
      ]
    },
    {
      "cell_type": "code",
      "source": [
        "#To reverse both axes simultaneously, you can omit the axis argument\n",
        "reversed_both_flip = np.flip(arr_2d)\n",
        "print(reversed_both_flip)"
      ],
      "metadata": {
        "colab": {
          "base_uri": "https://localhost:8080/"
        },
        "id": "9nozFYH41rB3",
        "outputId": "fd6d0b0d-62f8-4fb1-caed-9f50706a3ce2"
      },
      "execution_count": 12,
      "outputs": [
        {
          "output_type": "stream",
          "name": "stdout",
          "text": [
            "[[9 8 7]\n",
            " [6 5 4]\n",
            " [3 2 1]]\n"
          ]
        }
      ]
    },
    {
      "cell_type": "markdown",
      "source": [
        "## **3. Using np.flipud() and np.fliplr()**\n",
        "**np.flipud()**: Reverses an array along the vertical axis (i.e., flips it upside down).\n",
        "\n",
        "**np.fliplr()**: Reverses an array along the horizontal axis (i.e., flips it left to right)."
      ],
      "metadata": {
        "id": "fCRVSLmC1W_Y"
      }
    },
    {
      "cell_type": "code",
      "source": [
        "#2D Array Example:\n",
        "#Flip vertically (up-down):\n",
        "flipped_ud = np.flipud(arr_2d)\n",
        "print(flipped_ud)"
      ],
      "metadata": {
        "colab": {
          "base_uri": "https://localhost:8080/"
        },
        "id": "-40MzG_31z_p",
        "outputId": "4a9e551c-83c8-4c19-dc64-2faa27869bb6"
      },
      "execution_count": 13,
      "outputs": [
        {
          "output_type": "stream",
          "name": "stdout",
          "text": [
            "[[7 8 9]\n",
            " [4 5 6]\n",
            " [1 2 3]]\n"
          ]
        }
      ]
    },
    {
      "cell_type": "code",
      "source": [
        "#Flip horizontally (left-right):\n",
        "flipped_lr = np.fliplr(arr_2d)\n",
        "print(flipped_lr)"
      ],
      "metadata": {
        "colab": {
          "base_uri": "https://localhost:8080/"
        },
        "id": "wDssri3E14UU",
        "outputId": "e0c6dc70-6c4f-4a2b-ab5a-2c59ee8a6233"
      },
      "execution_count": 14,
      "outputs": [
        {
          "output_type": "stream",
          "name": "stdout",
          "text": [
            "[[3 2 1]\n",
            " [6 5 4]\n",
            " [9 8 7]]\n"
          ]
        }
      ]
    },
    {
      "cell_type": "markdown",
      "source": [
        "## **4. Using np.rot90()**\n",
        "Although np.rot90() is technically for rotating arrays, rotating an array 180 degrees effectively reverses both rows and columns."
      ],
      "metadata": {
        "id": "Qn2qKNAO18s8"
      }
    },
    {
      "cell_type": "code",
      "source": [
        "#2D Array Example:\n",
        "rotated_arr = np.rot90(arr_2d, 2)  # Rotate 180 degrees\n",
        "print(rotated_arr)"
      ],
      "metadata": {
        "colab": {
          "base_uri": "https://localhost:8080/"
        },
        "id": "nYbXLJVr1_B-",
        "outputId": "41849317-1779-4a47-f957-e189ac553baa"
      },
      "execution_count": 15,
      "outputs": [
        {
          "output_type": "stream",
          "name": "stdout",
          "text": [
            "[[9 8 7]\n",
            " [6 5 4]\n",
            " [3 2 1]]\n"
          ]
        }
      ]
    },
    {
      "cell_type": "markdown",
      "source": [
        "# **Q4. How can you determine the data type of elements in a NumPy array? Discuss the importance of data types in memory management and performance.**\n",
        "\n",
        "**Ans.**\n",
        "\n",
        "To determine the data type of elements in a NumPy array, you can use the dtype attribute, which returns the type of the elements stored in the array.\n",
        "\n"
      ],
      "metadata": {
        "id": "zIAEGnGf18iF"
      }
    },
    {
      "cell_type": "code",
      "source": [
        "#example\n",
        "import numpy as np\n",
        "\n",
        "arr = np.array([1, 2, 3])\n",
        "print(arr.dtype)"
      ],
      "metadata": {
        "colab": {
          "base_uri": "https://localhost:8080/"
        },
        "id": "Xz5VnTc12UN8",
        "outputId": "0fc901ac-6845-4036-9e88-5221dd595185"
      },
      "execution_count": 16,
      "outputs": [
        {
          "output_type": "stream",
          "name": "stdout",
          "text": [
            "int64\n"
          ]
        }
      ]
    },
    {
      "cell_type": "markdown",
      "source": [
        "For more complex arrays, like those with floating-point numbers or custom data types, the dtype attribute will reflect that as well."
      ],
      "metadata": {
        "id": "sBL9KC4r2a7t"
      }
    },
    {
      "cell_type": "code",
      "source": [
        "#example\n",
        "arr_float = np.array([1.0, 2.0, 3.0])\n",
        "print(arr_float.dtype)"
      ],
      "metadata": {
        "colab": {
          "base_uri": "https://localhost:8080/"
        },
        "id": "yHwSee6K2Xgu",
        "outputId": "17b6c0f1-b009-477c-e55f-ba9405a94159"
      },
      "execution_count": 17,
      "outputs": [
        {
          "output_type": "stream",
          "name": "stdout",
          "text": [
            "float64\n"
          ]
        }
      ]
    },
    {
      "cell_type": "markdown",
      "source": [
        "## **Importance of Data Types in NumPy**\n",
        "\n",
        "### **Memory Management:**\n",
        "\n",
        "**Efficient Memory Usage**: NumPy allows precise control over the amount of memory used by specifying the data type of an array\n",
        "\n",
        "**Custom Data Types:** NumPy allows the creation of arrays with custom structured data types, enabling you to store complex data structures (like records) in a compact and organized manner.\n",
        "\n",
        "### **Performance:**\n",
        "\n",
        "**Faster Computations**: Choosing the correct data type can improve performance. Smaller data types (like int8 or float32) use less memory and can result in faster computations when the data is small or doesn’t require high precision\n",
        "\n",
        "**Vectorized Operations**: NumPy performs operations directly on arrays at the machine level (C/C++ level), and the specific data type influences the speed at which operations like addition, multiplication, or matrix computations are performed.\n",
        "\n",
        "### **Precision Control:**\n",
        "\n",
        "**Handling Large Numbers**: Some data types, like int32 or float32, might not be able to store very large numbers accurately.\n",
        "\n",
        "**Type Compatibility:** When performing operations between arrays with different dtypes, NumPy will implicitly cast them to a common type that preserves precision."
      ],
      "metadata": {
        "id": "Na-D_fxl2r5j"
      }
    },
    {
      "cell_type": "markdown",
      "source": [
        "# **Q5. Define ndarrays in NumPy and explain their key features. How do they differ from standard Python lists?**\n",
        "\n",
        "**Ans.**\n",
        "\n",
        "In NumPy, an ndarray (n-dimensional array) is the fundamental data structure used for storing collections of numerical data. It is designed to efficiently handle large datasets and perform complex mathematical operations. Unlike Python lists, ndarray is optimized for numerical computations and memory usage, making it an essential tool for scientific computing and data analysis.\n",
        "\n",
        "## **Key Features of ndarray**\n",
        "### **Multidimensional Arrays:**\n",
        "\n",
        "An ndarray can represent arrays of any dimensionality. You can create 1D arrays (vectors), 2D arrays (matrices), or even higher-dimensional arrays (tensors)."
      ],
      "metadata": {
        "id": "vj-WRu8o3d8Q"
      }
    },
    {
      "cell_type": "code",
      "source": [
        "#example\n",
        "import numpy as np\n",
        "arr_1d = np.array([1, 2, 3])\n",
        "arr_2d = np.array([[1, 2], [3, 4]])"
      ],
      "metadata": {
        "id": "-Tg_oNiI4Qp4"
      },
      "execution_count": 18,
      "outputs": []
    },
    {
      "cell_type": "markdown",
      "source": [
        "### **Homogeneous Data Type:**\n",
        "\n",
        "All elements in an ndarray must have the same data type, whether integers, floats, or more complex types. This homogeneity allows for efficient memory management and processing speed."
      ],
      "metadata": {
        "id": "OhDk55lg4TjO"
      }
    },
    {
      "cell_type": "code",
      "source": [
        "#example\n",
        "arr = np.array([1.0, 2.0, 3.0], dtype=np.float32)"
      ],
      "metadata": {
        "id": "DDcMPeBy4TDt"
      },
      "execution_count": 19,
      "outputs": []
    },
    {
      "cell_type": "markdown",
      "source": [
        "### **Contiguous Memory Layout:**\n",
        "\n",
        "Unlike Python lists, ndarray stores elements in contiguous memory blocks. This reduces memory overhead and allows for faster access to elements.\n",
        "In Python lists, each element is a reference to a memory location, which makes list traversal and access slower.\n",
        "\n",
        "### **Vectorized Operations:**\n",
        "\n",
        "NumPy allows for element-wise operations (like addition, multiplication, etc.) without the need for explicit loops. These operations are highly optimized and result in faster computation.\n"
      ],
      "metadata": {
        "id": "YeHHJD5n4YgA"
      }
    },
    {
      "cell_type": "code",
      "source": [
        "#example\n",
        "arr = np.array([1, 2, 3])\n",
        "arr_squared = arr ** 2"
      ],
      "metadata": {
        "id": "uFqqz6Sh4YM9"
      },
      "execution_count": 20,
      "outputs": []
    },
    {
      "cell_type": "markdown",
      "source": [
        "### **Broadcasting:**\n",
        "\n",
        "Broadcasting allows NumPy to perform operations on arrays of different shapes in a memory-efficient manner. Smaller arrays are \"broadcast\" across the larger array so that element-wise operations can be performed without unnecessary copying."
      ],
      "metadata": {
        "id": "xEKsR36g4nEW"
      }
    },
    {
      "cell_type": "code",
      "source": [
        "#example\n",
        "arr = np.array([1, 2, 3])\n",
        "broadcasted_sum = arr + 10"
      ],
      "metadata": {
        "id": "_OOF0Onu4kjk"
      },
      "execution_count": 21,
      "outputs": []
    },
    {
      "cell_type": "markdown",
      "source": [
        "### **Shape and Reshaping:**\n",
        "\n",
        "The shape attribute of an ndarray tells you its dimensions. You can reshape arrays into different shapes using the reshape() method, without changing the underlying data.\n"
      ],
      "metadata": {
        "id": "4B6YMl204rnV"
      }
    },
    {
      "cell_type": "code",
      "source": [
        "#example\n",
        "arr_2d = np.array([[1, 2, 3], [4, 5, 6]])\n",
        "reshaped_arr = arr_2d.reshape(3, 2)"
      ],
      "metadata": {
        "id": "b5xlKGAU4qQk"
      },
      "execution_count": 22,
      "outputs": []
    },
    {
      "cell_type": "markdown",
      "source": [
        "### **Advanced Indexing and Slicing:**\n",
        "\n",
        "ndarray supports more sophisticated indexing and slicing techniques than Python lists. You can use boolean indexing, fancy indexing, and multi-dimensional slicing."
      ],
      "metadata": {
        "id": "Hs3_LXlS4v8Q"
      }
    },
    {
      "cell_type": "code",
      "source": [
        "#example\n",
        "arr = np.array([10, 20, 30, 40])\n",
        "sliced_arr = arr[1:3]"
      ],
      "metadata": {
        "id": "F0-f8EML4up0"
      },
      "execution_count": 23,
      "outputs": []
    },
    {
      "cell_type": "markdown",
      "source": [
        "### **Mathematical Functions:**\n",
        "\n",
        "NumPy provides a wide range of functions that can be applied directly to ndarray objects, including statistical functions (e.g., mean(), std()) and linear algebra operations (e.g., matrix multiplication)."
      ],
      "metadata": {
        "id": "7Aq708pO40Fb"
      }
    },
    {
      "cell_type": "code",
      "source": [
        "arr = np.array([1, 2, 3, 4])\n",
        "mean_value = np.mean(arr)"
      ],
      "metadata": {
        "id": "wu-b49Zl4y9U"
      },
      "execution_count": 24,
      "outputs": []
    },
    {
      "cell_type": "markdown",
      "source": [
        "# **Q6. Analyze the performance benefits of NumPy arrays over Python lists for large-scale numerical operations.**\n",
        "\n",
        "**Ans.**\n",
        "\n",
        "## **1. Memory Efficiency**\n",
        "\n",
        "### **Contiguous Memory Layout:**\n",
        "\n",
        "NumPy arrays (ndarrays) store elements in contiguous memory blocks, whereas Python lists store references to objects scattered throughout memory. This makes NumPy more memory-efficient, especially for large datasets.\n",
        "\n",
        "## **2. Faster Computation through Vectorization**\n",
        "\n",
        "### **Element-wise Operations:**\n",
        "\n",
        " NumPy arrays support vectorized operations, allowing you to perform mathematical operations on entire arrays without using explicit loops. This avoids Python’s inherent loop overhead and uses optimized, low-level C implementations.\n"
      ],
      "metadata": {
        "id": "aweiPr654220"
      }
    },
    {
      "cell_type": "code",
      "source": [
        "#Example:\n",
        "import numpy as np\n",
        "arr = np.array([1, 2, 3])\n",
        "result = arr + arr"
      ],
      "metadata": {
        "id": "CdFVLOPt5fJ1"
      },
      "execution_count": 25,
      "outputs": []
    },
    {
      "cell_type": "markdown",
      "source": [
        "## **3. Avoiding Python's Dynamic Typing Overhead**\n",
        "\n",
        "### **Fixed Data Type:**\n",
        "\n",
        "NumPy arrays are homogeneous, meaning all elements share the same data type. This allows NumPy to allocate memory more efficiently and perform operations faster because it doesn't need to check the data type of each element during computations (which is a requirement for Python lists).\n",
        "\n",
        "## **4. Optimized Low-Level Implementations**\n",
        "\n",
        "### **C and Fortran Backing:**\n",
        "\n",
        "NumPy is built on low-level C and Fortran libraries, which are much faster for numerical computations than Python’s built-in operations. This makes NumPy especially efficient for mathematical tasks like matrix multiplication, linear algebra, and complex array manipulations."
      ],
      "metadata": {
        "id": "pE_KfZfM5is4"
      }
    },
    {
      "cell_type": "code",
      "source": [
        "#Example:\n",
        "import numpy as np\n",
        "large_array = np.random.rand(1000, 1000)\n",
        "result = np.dot(large_array, large_array)"
      ],
      "metadata": {
        "id": "bIR0L92U5tdG"
      },
      "execution_count": 26,
      "outputs": []
    },
    {
      "cell_type": "markdown",
      "source": [
        "## **5. Efficient Broadcasting Mechanism**\n",
        "\n",
        "### **Broadcasting:**\n",
        " NumPy arrays can perform operations on arrays of different shapes by broadcasting smaller arrays across larger ones, avoiding the need for extra memory allocations or unnecessary data duplication."
      ],
      "metadata": {
        "id": "WxWLLF0i5vys"
      }
    },
    {
      "cell_type": "code",
      "source": [
        "#example\n",
        "arr = np.array([[1, 2], [3, 4]])\n",
        "result = arr + 10"
      ],
      "metadata": {
        "id": "pQXK0oic51VZ"
      },
      "execution_count": 27,
      "outputs": []
    },
    {
      "cell_type": "markdown",
      "source": [
        "## **6. Built-in Functions for Advanced Numerical Operations**\n",
        "\n",
        "\n",
        "### **Mathematical Functions:**\n",
        " NumPy provides a rich set of mathematical functions (e.g., trigonometry, statistics, linear algebra) that are highly optimized for performance. These functions often leverage SIMD (Single Instruction, Multiple Data) instructions and parallelism, further improving speed.\n",
        "\n",
        "## **7. Improved Cache Utilization**\n",
        "\n",
        "### **Contiguous Data in Memory:**\n",
        " Since NumPy arrays store data contiguously, they make better use of CPU caches. This leads to faster memory access times compared to Python lists, where elements might be scattered across memory."
      ],
      "metadata": {
        "id": "VU1wYg1p53Cx"
      }
    },
    {
      "cell_type": "markdown",
      "source": [
        "# **Q7. Compare vstack() and hstack() functions in NumPy. Provide examples demonstrating their usage and output.**\n",
        "\n",
        "**Ans.**\n",
        "\n",
        "in NumPy, the functions vstack() and hstack() are used to stack arrays vertically and horizontally, respectively. They are helpful for combining multiple arrays into one, and the choice between them depends on how you want to arrange the data.\n",
        "\n",
        "## **1. numpy.vstack()**\n",
        "\n",
        "**Purpose**:\n",
        "\n",
        "Stacks arrays in sequence vertically (row-wise). This means that arrays are combined along the first axis (axis 0), increasing the number of rows while keeping the number of columns the same.\n",
        "\n",
        "\n",
        "**Requirements**:\n",
        "\n",
        " The arrays must have the same number of columns (for 2D arrays)."
      ],
      "metadata": {
        "id": "8kNVZj3w6PUW"
      }
    },
    {
      "cell_type": "code",
      "source": [
        "#Example of vstack():\n",
        "import numpy as np\n",
        "\n",
        "# Define two 2D arrays\n",
        "array1 = np.array([[1, 2, 3], [4, 5, 6]])\n",
        "array2 = np.array([[7, 8, 9], [10, 11, 12]])\n",
        "\n",
        "# Stack arrays vertically\n",
        "result_vstack = np.vstack((array1, array2))\n",
        "\n",
        "print(\"Result of vstack:\")\n",
        "print(result_vstack)"
      ],
      "metadata": {
        "colab": {
          "base_uri": "https://localhost:8080/"
        },
        "id": "rhlFeo5x6jZO",
        "outputId": "eb56fdef-491a-4ce0-b7ec-54481b734be5"
      },
      "execution_count": 28,
      "outputs": [
        {
          "output_type": "stream",
          "name": "stdout",
          "text": [
            "Result of vstack:\n",
            "[[ 1  2  3]\n",
            " [ 4  5  6]\n",
            " [ 7  8  9]\n",
            " [10 11 12]]\n"
          ]
        }
      ]
    },
    {
      "cell_type": "markdown",
      "source": [
        "## **2. numpy.hstack()**\n",
        "\n",
        "**Purpose:**\n",
        "\n",
        " Stacks arrays in sequence horizontally (column-wise). This means that arrays are combined along the second axis (axis 1), increasing the number of columns while keeping the number of rows the same.\n",
        "**Requirements:**\n",
        "\n",
        "The arrays must have the same number of rows (for 2D arrays)."
      ],
      "metadata": {
        "id": "88VF4Tnz6mrh"
      }
    },
    {
      "cell_type": "code",
      "source": [
        "#Example of hstack():\n",
        "import numpy as np\n",
        "\n",
        "# Define two 2D arrays\n",
        "array1 = np.array([[1, 2, 3], [4, 5, 6]])\n",
        "array2 = np.array([[7, 8], [9, 10]])\n",
        "\n",
        "# Stack arrays horizontally\n",
        "result_hstack = np.hstack((array1, array2))\n",
        "\n",
        "print(\"Result of hstack:\")\n",
        "print(result_hstack)"
      ],
      "metadata": {
        "colab": {
          "base_uri": "https://localhost:8080/"
        },
        "id": "lG0t9CaK6s-1",
        "outputId": "5e71b3d4-a374-4740-983f-a4d382e6d060"
      },
      "execution_count": 29,
      "outputs": [
        {
          "output_type": "stream",
          "name": "stdout",
          "text": [
            "Result of hstack:\n",
            "[[ 1  2  3  7  8]\n",
            " [ 4  5  6  9 10]]\n"
          ]
        }
      ]
    },
    {
      "cell_type": "markdown",
      "source": [
        "# **Q8. Explain the differences between fliplr() and flipud() methods in NumPy, including their effects on various array dimensions.**\n",
        "\n",
        "**Ans.**\n",
        "\n",
        "In NumPy, the functions fliplr() and flipud() are used to flip arrays along specific axes. These methods are useful for manipulating arrays in various data analysis and scientific computing scenarios. Here's a breakdown of their differences and effects on various array dimensions:\n",
        "\n",
        "\n",
        "In NumPy, the functions fliplr() and flipud() are used to flip arrays along specific axes. These methods are useful for manipulating arrays in various data analysis and scientific computing scenarios. Here's a breakdown of their differences and effects on various array dimensions:\n",
        "\n",
        "## **1. numpy.fliplr()**\n",
        "**Purpose**:\n",
        "\n",
        "Flips an array from left to right, effectively reversing the order of the columns.\n",
        "\n",
        "\n",
        "**Effect**:\n",
        "\n",
        "This function operates along the horizontal axis (axis 1). It only affects 2D arrays and higher (i.e., arrays with at least 2 dimensions).\n",
        "\n",
        "\n",
        "**Usage**:\n",
        "\n",
        "Typically used to reverse the order of columns in a 2D array."
      ],
      "metadata": {
        "id": "5Pebhy4D6v1u"
      }
    },
    {
      "cell_type": "code",
      "source": [
        "#Example of fliplr():\n",
        "import numpy as np\n",
        "\n",
        "# Define a 2D array\n",
        "array_2d = np.array([[1, 2, 3], [4, 5, 6]])\n",
        "\n",
        "# Flip left to right\n",
        "result_fliplr = np.fliplr(array_2d)\n",
        "\n",
        "print(\"Result of fliplr:\")\n",
        "print(result_fliplr)"
      ],
      "metadata": {
        "colab": {
          "base_uri": "https://localhost:8080/"
        },
        "id": "l8Ex95wU7AYD",
        "outputId": "a7f4fbcf-2ed5-4157-b7cc-c7066e3c98b3"
      },
      "execution_count": 30,
      "outputs": [
        {
          "output_type": "stream",
          "name": "stdout",
          "text": [
            "Result of fliplr:\n",
            "[[3 2 1]\n",
            " [6 5 4]]\n"
          ]
        }
      ]
    },
    {
      "cell_type": "markdown",
      "source": [
        "## **2. numpy.flipud()**\n",
        "**Purpose:**\n",
        "\n",
        "Flips an array up and down, effectively reversing the order of the rows.\n",
        "\n",
        "\n",
        "**Effect**:\n",
        "\n",
        "This function operates along the vertical axis (axis 0). Similar to fliplr(), it only affects 2D arrays and higher.\n",
        "Usage: Typically used to reverse the order of rows in a 2D array."
      ],
      "metadata": {
        "id": "dI_jqqkD7DK2"
      }
    },
    {
      "cell_type": "code",
      "source": [
        "#Example of flipud():\n",
        "import numpy as np\n",
        "\n",
        "# Define a 2D array\n",
        "array_2d = np.array([[1, 2, 3], [4, 5, 6]])\n",
        "\n",
        "# Flip up to down\n",
        "result_flipud = np.flipud(array_2d)\n",
        "\n",
        "print(\"Result of flipud:\")\n",
        "print(result_flipud)\n"
      ],
      "metadata": {
        "colab": {
          "base_uri": "https://localhost:8080/"
        },
        "id": "bP-aDsZY7g8D",
        "outputId": "02382251-3dbb-454e-f099-9bfe7ab8c4fe"
      },
      "execution_count": 31,
      "outputs": [
        {
          "output_type": "stream",
          "name": "stdout",
          "text": [
            "Result of flipud:\n",
            "[[4 5 6]\n",
            " [1 2 3]]\n"
          ]
        }
      ]
    },
    {
      "cell_type": "markdown",
      "source": [
        "## **3. Effects on Different Array Dimensions**\n",
        "\n",
        "**2D Arrays**:\n",
        "\n",
        "Both fliplr() and flipud() have clear and distinct effects, as demonstrated in the examples. They allow for easy manipulation of matrix representations.\n",
        "\n",
        "**1D Arrays:**\n",
        "\n",
        "\n",
        "fliplr() is not applicable since there are no columns to flip. However, it can still be used without an error but will have no effect.\n",
        "flipud() will also have no effect, as there's no vertical dimension to manipulate.\n",
        "\n",
        "**3D Arrays and Higher:**\n",
        "\n",
        "Both methods can be applied, but the flipping will occur on the respective axes of the 2D slices that make up the higher-dimensional array.\n",
        "For example, if you have a 3D array, fliplr() flips each 2D slice along the rows, and flipud() flips each slice along the columns."
      ],
      "metadata": {
        "id": "15ipuqC87i6U"
      }
    },
    {
      "cell_type": "code",
      "source": [
        "#Example with 3D Array:\n",
        "# Define a 3D array\n",
        "array_3d = np.array([[[1, 2], [3, 4]], [[5, 6], [7, 8]]])\n",
        "\n",
        "# Flip left to right\n",
        "result_fliplr_3d = np.fliplr(array_3d)\n",
        "\n",
        "# Flip up to down\n",
        "result_flipud_3d = np.flipud(array_3d)\n",
        "\n",
        "print(\"Result of fliplr on 3D array:\")\n",
        "print(result_fliplr_3d)\n",
        "print(\"Result of flipud on 3D array:\")\n",
        "print(result_flipud_3d)\n"
      ],
      "metadata": {
        "colab": {
          "base_uri": "https://localhost:8080/"
        },
        "id": "gV2N6pEJ7uQ2",
        "outputId": "fca9c8e6-151f-47fe-b100-0da9f8ab2d26"
      },
      "execution_count": 32,
      "outputs": [
        {
          "output_type": "stream",
          "name": "stdout",
          "text": [
            "Result of fliplr on 3D array:\n",
            "[[[3 4]\n",
            "  [1 2]]\n",
            "\n",
            " [[7 8]\n",
            "  [5 6]]]\n",
            "Result of flipud on 3D array:\n",
            "[[[5 6]\n",
            "  [7 8]]\n",
            "\n",
            " [[1 2]\n",
            "  [3 4]]]\n"
          ]
        }
      ]
    },
    {
      "cell_type": "markdown",
      "source": [
        "# **Q9. Discuss the functionality of the array_split() method in NumPy. How does it handle uneven splits?**\n",
        "\n",
        "**Ans.**\n",
        "\n",
        "he array_split() method in NumPy is a versatile function used to split an array into multiple sub-arrays along a specified axis.\n",
        "\n",
        "## **Functionality of array_split()**\n",
        "**Basic Syntax:**\n",
        "\n",
        "    numpy.array_split(ary, indices_or_sections, axis=0)\n",
        "\n",
        "### **Parameters:**\n",
        "\n",
        "**ary**: The input array you want to split.\n",
        "\n",
        "\n",
        "**indices_or_sections**: Can be an integer or an array of indices. If it is an integer, it specifies the number of equal parts to split the array into. If it is an array, it defines the indices at which to split.\n",
        "\n",
        "\n",
        "**axis:** The axis along which to split the array. The default is 0 (the first axis)."
      ],
      "metadata": {
        "id": "ZzXIyRb67xO3"
      }
    },
    {
      "cell_type": "code",
      "source": [
        "#example of how array_split() works:\n",
        "import numpy as np\n",
        "\n",
        "# Create an array\n",
        "array = np.array([1, 2, 3, 4, 5, 6])\n",
        "\n",
        "# Split the array into 3 equal parts\n",
        "split_arrays = np.array_split(array, 3)\n",
        "\n",
        "print(\"Split Arrays:\")\n",
        "for sub_array in split_arrays:\n",
        "    print(sub_array)\n"
      ],
      "metadata": {
        "colab": {
          "base_uri": "https://localhost:8080/"
        },
        "id": "lkN_3Wyy8OXl",
        "outputId": "507ebf47-3ea0-41a9-94fd-f051db2498eb"
      },
      "execution_count": 33,
      "outputs": [
        {
          "output_type": "stream",
          "name": "stdout",
          "text": [
            "Split Arrays:\n",
            "[1 2]\n",
            "[3 4]\n",
            "[5 6]\n"
          ]
        }
      ]
    },
    {
      "cell_type": "markdown",
      "source": [
        "## **Handling Uneven Splits**\n",
        "\n",
        "When the size of the array is not evenly divisible by the number of sections specified, array_split() automatically adjusts the size of the resulting sub-arrays.\n",
        "\n",
        "**Uneven Distribution:** If the array cannot be evenly split, some sub-arrays will have one more element than others."
      ],
      "metadata": {
        "id": "q2TWookI8QkR"
      }
    },
    {
      "cell_type": "code",
      "source": [
        "#Example of Uneven Splits:\n",
        "import numpy as np\n",
        "\n",
        "# Create an array with 7 elements\n",
        "array = np.array([1, 2, 3, 4, 5, 6, 7])\n",
        "\n",
        "# Split the array into 3 parts\n",
        "split_arrays = np.array_split(array, 3)\n",
        "\n",
        "print(\"Split Arrays with Uneven Distribution:\")\n",
        "for sub_array in split_arrays:\n",
        "    print(sub_array)\n"
      ],
      "metadata": {
        "colab": {
          "base_uri": "https://localhost:8080/"
        },
        "id": "x2JnxBeD8ZiA",
        "outputId": "f158cf41-2393-4715-ae3a-aaa08d7376c0"
      },
      "execution_count": 34,
      "outputs": [
        {
          "output_type": "stream",
          "name": "stdout",
          "text": [
            "Split Arrays with Uneven Distribution:\n",
            "[1 2 3]\n",
            "[4 5]\n",
            "[6 7]\n"
          ]
        }
      ]
    },
    {
      "cell_type": "markdown",
      "source": [
        "# **Q10. Explain the concepts of vectorization and broadcasting in NumPy. How do they contribute to efficient array operations?**\n",
        "\n",
        "**Ans.**\n",
        "\n",
        "Vectorization and broadcasting are two fundamental concepts in NumPy that significantly enhance the efficiency and performance of array operations.\n",
        "\n",
        "## **Vectorization**\n",
        "\n",
        "Vectorization refers to the process of converting operations that would typically be executed in a loop into a single operation that operates on entire arrays at once. This approach leverages low-level optimizations provided by NumPy, which utilizes compiled C and Fortran code to perform operations.\n",
        "\n",
        "### **Benefits:**\n",
        "\n",
        "**Performance:**\n",
        "\n",
        "Vectorized operations are faster than their loop-based counterparts because they minimize the overhead associated with Python loops and take advantage of optimized libraries for mathematical computations.\n",
        "\n",
        "\n",
        "**Conciseness:**\n",
        "\n",
        "Code becomes cleaner and more readable. Instead of writing explicit loops, you can express complex operations in a more compact form."
      ],
      "metadata": {
        "id": "iI7FTwzp8bkk"
      }
    },
    {
      "cell_type": "code",
      "source": [
        "#Example:\n",
        "import numpy as np\n",
        "\n",
        "# Create two large arrays\n",
        "a = np.random.rand(1000000)\n",
        "b = np.random.rand(1000000)\n",
        "\n",
        "# Vectorized operation\n",
        "c = a + b  # Element-wise addition\n"
      ],
      "metadata": {
        "id": "6yWpcrpw8yQm"
      },
      "execution_count": 35,
      "outputs": []
    },
    {
      "cell_type": "code",
      "source": [
        "#equivalent operation using a loop\n",
        "c = np.empty_like(a)\n",
        "for i in range(len(a)):\n",
        "    c[i] = a[i] + b[i]\n"
      ],
      "metadata": {
        "id": "aZmiHZrh83Uo"
      },
      "execution_count": 36,
      "outputs": []
    },
    {
      "cell_type": "markdown",
      "source": [
        "## **Broadcasting**\n",
        "\n",
        "Broadcasting is a set of rules that NumPy follows to perform arithmetic operations on arrays of different shapes. It allows for the automatic expansion of smaller arrays to match the shape of larger arrays during operations, enabling element-wise arithmetic without the need for explicit replication.\n",
        "\n",
        "### **Benefits:**\n",
        "\n",
        "**Memory Efficiency:**\n",
        "\n",
        "Instead of creating large intermediate arrays, broadcasting allows operations to occur without duplicating data, which saves memory.\n",
        "\n",
        "\n",
        "**Flexibility:**\n",
        "\n",
        "It enables operations between arrays of different dimensions, making it easier to manipulate and analyze data.\n"
      ],
      "metadata": {
        "id": "woOi8k0_80Ff"
      }
    },
    {
      "cell_type": "code",
      "source": [
        "#example\n",
        "import numpy as np\n",
        "\n",
        "# A 1D array and a 2D array\n",
        "a = np.array([1, 2, 3])       # Shape (3,)\n",
        "b = np.array([[10], [20], [30]])  # Shape (3, 1)\n",
        "\n",
        "# Broadcasting in action\n",
        "result = a + b  # a is broadcasted to shape (3, 3)\n"
      ],
      "metadata": {
        "id": "D5WdfGDM9Hqq"
      },
      "execution_count": 37,
      "outputs": []
    },
    {
      "cell_type": "markdown",
      "source": [
        "# ***PRACTICAL QUESTIONS***\n",
        "\n",
        "\\\n",
        "\n",
        "\\\n",
        "\n",
        "\\\n",
        "\n",
        "\\\n",
        "\n",
        "# **1. Create a 3x3 NumPy array with random integers between 1 and 100. Then, interchange its rows and columns.**"
      ],
      "metadata": {
        "id": "c0T0Dpou97OJ"
      }
    },
    {
      "cell_type": "code",
      "source": [
        "import numpy as np\n",
        "\n",
        "# Create a 3x3 NumPy array with random integers between 1 and 100\n",
        "array_3x3 = np.random.randint(1, 101, size=(3, 3))\n",
        "\n",
        "# Interchange rows and columns (transpose the array)\n",
        "transposed_array = array_3x3.T\n",
        "\n",
        "array_3x3, transposed_array\n"
      ],
      "metadata": {
        "colab": {
          "base_uri": "https://localhost:8080/"
        },
        "id": "q3LRDoca-lXu",
        "outputId": "9ec1685f-1700-48db-b39b-2c826410818a"
      },
      "execution_count": 38,
      "outputs": [
        {
          "output_type": "execute_result",
          "data": {
            "text/plain": [
              "(array([[ 72,  49,  39],\n",
              "        [ 98,  80, 100],\n",
              "        [ 40,  12,  71]]),\n",
              " array([[ 72,  98,  40],\n",
              "        [ 49,  80,  12],\n",
              "        [ 39, 100,  71]]))"
            ]
          },
          "metadata": {},
          "execution_count": 38
        }
      ]
    },
    {
      "cell_type": "markdown",
      "source": [
        "# **2. Generate a 1D NumPy array with 10 elements. Reshape it into a 2x5 array, then into a 5x2 array.**"
      ],
      "metadata": {
        "id": "ZV-d6M3q-nVb"
      }
    },
    {
      "cell_type": "code",
      "source": [
        "# Generate a 1D NumPy array with 10 elements\n",
        "array_1d = np.arange(10)\n",
        "\n",
        "# Reshape it into a 2x5 array\n",
        "array_2x5 = array_1d.reshape(2, 5)\n",
        "\n",
        "# Reshape it into a 5x2 array\n",
        "array_5x2 = array_1d.reshape(5, 2)\n",
        "\n",
        "array_1d, array_2x5, array_5x2\n"
      ],
      "metadata": {
        "colab": {
          "base_uri": "https://localhost:8080/"
        },
        "id": "98IXWpWC-mQ8",
        "outputId": "ce4a0917-8e23-4c14-c0e3-98d4d7ecd0bc"
      },
      "execution_count": 39,
      "outputs": [
        {
          "output_type": "execute_result",
          "data": {
            "text/plain": [
              "(array([0, 1, 2, 3, 4, 5, 6, 7, 8, 9]),\n",
              " array([[0, 1, 2, 3, 4],\n",
              "        [5, 6, 7, 8, 9]]),\n",
              " array([[0, 1],\n",
              "        [2, 3],\n",
              "        [4, 5],\n",
              "        [6, 7],\n",
              "        [8, 9]]))"
            ]
          },
          "metadata": {},
          "execution_count": 39
        }
      ]
    },
    {
      "cell_type": "markdown",
      "source": [
        "# **3. Create a 4x4 NumPy array with random float values. Add a border of zeros around it, resulting in a 6x6 array.**"
      ],
      "metadata": {
        "id": "G4opeq4J-vVe"
      }
    },
    {
      "cell_type": "code",
      "source": [
        "# Create a 4x4 NumPy array with random float values\n",
        "array_4x4 = np.random.random((4, 4))\n",
        "\n",
        "# Add a border of zeros around it\n",
        "array_with_border = np.pad(array_4x4, pad_width=1, mode='constant', constant_values=0)\n",
        "\n",
        "array_4x4, array_with_border\n"
      ],
      "metadata": {
        "colab": {
          "base_uri": "https://localhost:8080/"
        },
        "id": "xtqi6RBn-xdp",
        "outputId": "f7ff2142-009e-4412-cf9b-c7a428950454"
      },
      "execution_count": 40,
      "outputs": [
        {
          "output_type": "execute_result",
          "data": {
            "text/plain": [
              "(array([[0.30419804, 0.44077207, 0.36775292, 0.72107392],\n",
              "        [0.58069516, 0.14888823, 0.7075975 , 0.77969919],\n",
              "        [0.77337324, 0.52967268, 0.22326645, 0.17702557],\n",
              "        [0.88061603, 0.64313366, 0.84310698, 0.09550551]]),\n",
              " array([[0.        , 0.        , 0.        , 0.        , 0.        ,\n",
              "         0.        ],\n",
              "        [0.        , 0.30419804, 0.44077207, 0.36775292, 0.72107392,\n",
              "         0.        ],\n",
              "        [0.        , 0.58069516, 0.14888823, 0.7075975 , 0.77969919,\n",
              "         0.        ],\n",
              "        [0.        , 0.77337324, 0.52967268, 0.22326645, 0.17702557,\n",
              "         0.        ],\n",
              "        [0.        , 0.88061603, 0.64313366, 0.84310698, 0.09550551,\n",
              "         0.        ],\n",
              "        [0.        , 0.        , 0.        , 0.        , 0.        ,\n",
              "         0.        ]]))"
            ]
          },
          "metadata": {},
          "execution_count": 40
        }
      ]
    },
    {
      "cell_type": "markdown",
      "source": [
        "# **4. Using NumPy, create an array of integers from 10 to 60 with a step of 5.**"
      ],
      "metadata": {
        "id": "md0-PbqF-3EV"
      }
    },
    {
      "cell_type": "code",
      "source": [
        "import numpy as np\n",
        "\n",
        "# Create an array of integers from 10 to 60 with a step of 5\n",
        "array_integers = np.arange(10, 61, 5)\n",
        "\n",
        "print(array_integers)\n"
      ],
      "metadata": {
        "colab": {
          "base_uri": "https://localhost:8080/"
        },
        "id": "9PkyHyiZ-59j",
        "outputId": "0aeeca59-0371-46e8-e9cb-d11dd0c64d06"
      },
      "execution_count": 41,
      "outputs": [
        {
          "output_type": "stream",
          "name": "stdout",
          "text": [
            "[10 15 20 25 30 35 40 45 50 55 60]\n"
          ]
        }
      ]
    },
    {
      "cell_type": "markdown",
      "source": [
        "# **5. Create a NumPy array of strings ['python', 'numpy', 'pandas']. Apply different case transformations (uppercase, lowercase, title case, etc.) to each element.**"
      ],
      "metadata": {
        "id": "pfih4FUA_B9w"
      }
    },
    {
      "cell_type": "code",
      "source": [
        "import numpy as np\n",
        "\n",
        "# Create a NumPy array of strings\n",
        "array_strings = np.array(['python', 'numpy', 'pandas'])\n",
        "\n",
        "# Apply different case transformations\n",
        "uppercase = np.char.upper(array_strings)   # Uppercase\n",
        "lowercase = np.char.lower(array_strings)   # Lowercase\n",
        "titlecase = np.char.title(array_strings)    # Title case\n",
        "capitalize = np.char.capitalize(array_strings)  # Capitalize\n",
        "\n",
        "# Print the results\n",
        "print(\"Uppercase:\", uppercase)\n",
        "print(\"Lowercase:\", lowercase)\n",
        "print(\"Title Case:\", titlecase)\n",
        "print(\"Capitalize:\", capitalize)\n"
      ],
      "metadata": {
        "colab": {
          "base_uri": "https://localhost:8080/"
        },
        "id": "2_C7yVyX_GCN",
        "outputId": "719af60d-ee72-4912-b6fd-275540e72134"
      },
      "execution_count": 42,
      "outputs": [
        {
          "output_type": "stream",
          "name": "stdout",
          "text": [
            "Uppercase: ['PYTHON' 'NUMPY' 'PANDAS']\n",
            "Lowercase: ['python' 'numpy' 'pandas']\n",
            "Title Case: ['Python' 'Numpy' 'Pandas']\n",
            "Capitalize: ['Python' 'Numpy' 'Pandas']\n"
          ]
        }
      ]
    },
    {
      "cell_type": "markdown",
      "source": [
        "# **6. Generate a NumPy array of words. Insert a space between each character of every word in the array.**"
      ],
      "metadata": {
        "id": "mV25o9Hl_Nrw"
      }
    },
    {
      "cell_type": "code",
      "source": [
        "import numpy as np\n",
        "\n",
        "# Generate a NumPy array of words\n",
        "array_words = np.array(['hello', 'world', 'numpy', 'python'])\n",
        "\n",
        "# Insert a space between each character of every word in the array\n",
        "spaced_words = np.char.join(' ', array_words)\n",
        "\n",
        "# Print the results\n",
        "spaced_words_with_spaces = np.array([' '.join(word) for word in array_words])\n",
        "print(spaced_words_with_spaces)\n"
      ],
      "metadata": {
        "colab": {
          "base_uri": "https://localhost:8080/"
        },
        "id": "3NzdtnmQ_R5G",
        "outputId": "506c73dc-f011-4fbd-c44e-574542f58d33"
      },
      "execution_count": 43,
      "outputs": [
        {
          "output_type": "stream",
          "name": "stdout",
          "text": [
            "['h e l l o' 'w o r l d' 'n u m p y' 'p y t h o n']\n"
          ]
        }
      ]
    },
    {
      "cell_type": "markdown",
      "source": [
        "# **7. Create two 2D NumPy arrays and perform element-wise addition, subtraction, multiplication, and division.**"
      ],
      "metadata": {
        "id": "eV_HjtEo_UvG"
      }
    },
    {
      "cell_type": "code",
      "source": [
        "import numpy as np\n",
        "\n",
        "# Create two 2D NumPy arrays\n",
        "array1 = np.array([[1, 2, 3], [4, 5, 6]])\n",
        "array2 = np.array([[7, 8, 9], [10, 11, 12]])\n",
        "\n",
        "# Perform element-wise addition\n",
        "addition = array1 + array2\n",
        "\n",
        "# Perform element-wise subtraction\n",
        "subtraction = array1 - array2\n",
        "\n",
        "# Perform element-wise multiplication\n",
        "multiplication = array1 * array2\n",
        "\n",
        "# Perform element-wise division\n",
        "division = array1 / array2\n",
        "\n",
        "# Print the results\n",
        "print(\"Addition:\\n\", addition)\n",
        "print(\"Subtraction:\\n\", subtraction)\n",
        "print(\"Multiplication:\\n\", multiplication)\n",
        "print(\"Division:\\n\", division)\n"
      ],
      "metadata": {
        "colab": {
          "base_uri": "https://localhost:8080/"
        },
        "id": "0oo6iEXW_Wxk",
        "outputId": "5ac67043-2140-4745-f2a8-f1c09975e110"
      },
      "execution_count": 44,
      "outputs": [
        {
          "output_type": "stream",
          "name": "stdout",
          "text": [
            "Addition:\n",
            " [[ 8 10 12]\n",
            " [14 16 18]]\n",
            "Subtraction:\n",
            " [[-6 -6 -6]\n",
            " [-6 -6 -6]]\n",
            "Multiplication:\n",
            " [[ 7 16 27]\n",
            " [40 55 72]]\n",
            "Division:\n",
            " [[0.14285714 0.25       0.33333333]\n",
            " [0.4        0.45454545 0.5       ]]\n"
          ]
        }
      ]
    },
    {
      "cell_type": "markdown",
      "source": [
        "# **8. Use NumPy to create a 5x5 identity matrix, then extract its diagonal elements.**"
      ],
      "metadata": {
        "id": "OMVKGZtY_cCd"
      }
    },
    {
      "cell_type": "code",
      "source": [
        "import numpy as np\n",
        "\n",
        "# Create a 5x5 identity matrix\n",
        "identity_matrix = np.eye(5)\n",
        "\n",
        "# Extract the diagonal elements\n",
        "diagonal_elements = np.diag(identity_matrix)\n",
        "\n",
        "# Print the results\n",
        "print(\"Identity Matrix:\\n\", identity_matrix)\n",
        "print(\"Diagonal Elements:\", diagonal_elements)\n"
      ],
      "metadata": {
        "colab": {
          "base_uri": "https://localhost:8080/"
        },
        "id": "jDqgLuMi_d2U",
        "outputId": "1b3e505a-edc1-4561-9d23-5b8617503da1"
      },
      "execution_count": 45,
      "outputs": [
        {
          "output_type": "stream",
          "name": "stdout",
          "text": [
            "Identity Matrix:\n",
            " [[1. 0. 0. 0. 0.]\n",
            " [0. 1. 0. 0. 0.]\n",
            " [0. 0. 1. 0. 0.]\n",
            " [0. 0. 0. 1. 0.]\n",
            " [0. 0. 0. 0. 1.]]\n",
            "Diagonal Elements: [1. 1. 1. 1. 1.]\n"
          ]
        }
      ]
    },
    {
      "cell_type": "markdown",
      "source": [
        "# **9. Generate a NumPy array of 100 random integers between 0 and 1000. Find and display all prime numbers in this array.**"
      ],
      "metadata": {
        "id": "dI0JLgj4_jDp"
      }
    },
    {
      "cell_type": "code",
      "source": [
        "import numpy as np\n",
        "\n",
        "# Generate a NumPy array of 100 random integers between 0 and 1000\n",
        "random_integers = np.random.randint(0, 1001, size=100)\n",
        "\n",
        "# Function to check if a number is prime\n",
        "def is_prime(num):\n",
        "    if num < 2:\n",
        "        return False\n",
        "    for i in range(2, int(num**0.5) + 1):\n",
        "        if num % i == 0:\n",
        "            return False\n",
        "    return True\n",
        "\n",
        "# Find all prime numbers in the array\n",
        "prime_numbers = np.array([num for num in random_integers if is_prime(num)])\n",
        "\n",
        "# Print the results\n",
        "print(\"Random Integers:\\n\", random_integers)\n",
        "print(\"Prime Numbers:\\n\", prime_numbers)\n"
      ],
      "metadata": {
        "colab": {
          "base_uri": "https://localhost:8080/"
        },
        "id": "jp6FnAio_uHH",
        "outputId": "c1b1f734-6581-4fd5-806a-e6c5ee2a67eb"
      },
      "execution_count": 46,
      "outputs": [
        {
          "output_type": "stream",
          "name": "stdout",
          "text": [
            "Random Integers:\n",
            " [  0  32 168  21 420 154  88 200 669 127 613 716 330 227 911 770 206 331\n",
            " 606 538 406 404  68 481 591 178 448 776 101  62 771 210 741 305 398 734\n",
            " 682 670 335 595 457 618 731 956 652 298 698 178  59 193 465  34 870 194\n",
            " 472 243 427  22 520 661 163 427 144 454 643 610 325 340 441 515 876 781\n",
            " 841  14 519 293  11  75 744 956 352 246 573 872 540 567 867  89 382 955\n",
            " 322 834 652 513 352 412 582 389 317 712]\n",
            "Prime Numbers:\n",
            " [127 613 227 911 331 101 457  59 193 661 163 643 293  11  89 389 317]\n"
          ]
        }
      ]
    },
    {
      "cell_type": "markdown",
      "source": [
        "10. Create a NumPy array representing daily temperatures for a month. Calculate and display the weekly averages."
      ],
      "metadata": {
        "id": "ZfRDOap4_whk"
      }
    },
    {
      "cell_type": "code",
      "source": [
        "import numpy as np\n",
        "\n",
        "# Create a NumPy array representing daily temperatures for 28 days (4 weeks)\n",
        "daily_temperatures = np.random.randint(low=-10, high=35, size=28)  # Random temperatures between -10 and 35 degrees\n",
        "\n",
        "# Reshape the array into a 2D array with 4 weeks and 7 days\n",
        "weekly_temperatures = daily_temperatures.reshape(4, 7)\n",
        "\n",
        "# Calculate the weekly averages\n",
        "weekly_averages = np.mean(weekly_temperatures, axis=1)\n",
        "\n",
        "# Print the results\n",
        "print(\"Daily Temperatures for the Month:\\n\", daily_temperatures)\n",
        "print(\"Weekly Temperatures:\\n\", weekly_temperatures)\n",
        "print(\"Weekly Averages:\\n\", weekly_averages)\n"
      ],
      "metadata": {
        "colab": {
          "base_uri": "https://localhost:8080/"
        },
        "id": "EOcex4lQ_yGm",
        "outputId": "4205c550-5aa0-437d-8642-c6b11dba9864"
      },
      "execution_count": 49,
      "outputs": [
        {
          "output_type": "stream",
          "name": "stdout",
          "text": [
            "Daily Temperatures for the Month:\n",
            " [ 17  26 -10  26  -6  -8  23  27  12  33  21   9   8  31  12   7   9  14\n",
            "  13  14   5  16  17   0  18  15  -2  31]\n",
            "Weekly Temperatures:\n",
            " [[ 17  26 -10  26  -6  -8  23]\n",
            " [ 27  12  33  21   9   8  31]\n",
            " [ 12   7   9  14  13  14   5]\n",
            " [ 16  17   0  18  15  -2  31]]\n",
            "Weekly Averages:\n",
            " [ 9.71428571 20.14285714 10.57142857 13.57142857]\n"
          ]
        }
      ]
    }
  ]
}