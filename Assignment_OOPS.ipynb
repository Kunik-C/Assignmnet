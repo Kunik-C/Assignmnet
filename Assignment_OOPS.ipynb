{
  "nbformat": 4,
  "nbformat_minor": 0,
  "metadata": {
    "colab": {
      "provenance": [],
      "authorship_tag": "ABX9TyPJNaFYoMsZjX6gMPIf7Ca7",
      "include_colab_link": true
    },
    "kernelspec": {
      "name": "python3",
      "display_name": "Python 3"
    },
    "language_info": {
      "name": "python"
    }
  },
  "cells": [
    {
      "cell_type": "markdown",
      "metadata": {
        "id": "view-in-github",
        "colab_type": "text"
      },
      "source": [
        "<a href=\"https://colab.research.google.com/github/Kunik-C/Assignmnet/blob/main/Assignment_OOPS.ipynb\" target=\"_parent\"><img src=\"https://colab.research.google.com/assets/colab-badge.svg\" alt=\"Open In Colab\"/></a>"
      ]
    },
    {
      "cell_type": "markdown",
      "source": [
        "# **1. What are the five key concepts of Object-Oriented Programming (OOP)?**\n",
        "\n",
        "**Ans1.**\n",
        "\n",
        "Following are the five key concepts of Object Oriented Programming:\n",
        "\n",
        "1 **Class**:\n",
        "\\\n",
        "\\\n",
        "  A class is a blueprint or template for creating objects. It defines a set of attributes (data) and methods (functions) that the objects created from the class will have.\n",
        "\n"
      ],
      "metadata": {
        "id": "3LAIPCPrYZAp"
      }
    },
    {
      "cell_type": "code",
      "execution_count": 15,
      "metadata": {
        "id": "tUctFvqVYWvK"
      },
      "outputs": [],
      "source": [
        "#example of class and Object\n",
        "class Car:\n",
        "  def __init__(self,make, model):\n",
        "    self.make=make\n",
        "    self.model=model\n",
        "\n",
        "  def display_info(self):\n",
        "    print(f\"Car make: {self.make}, Model:{self.model}\")"
      ]
    },
    {
      "cell_type": "markdown",
      "source": [
        "**2 Object:**\n",
        "\\\n",
        "\\\n",
        "  An object is an instance of a class. It represents a specific entity that has the properties and behaviors defined by the class."
      ],
      "metadata": {
        "id": "VNao0UqlbphM"
      }
    },
    {
      "cell_type": "code",
      "source": [
        "#Example of object\n",
        "object_car=Car(\"Toyota\",\"Innova\")\n",
        "object_car.display_info()"
      ],
      "metadata": {
        "colab": {
          "base_uri": "https://localhost:8080/"
        },
        "id": "R8cDQTpXZ86z",
        "outputId": "d6bea792-f2eb-44ae-e26a-3532e5c7ff9e"
      },
      "execution_count": 14,
      "outputs": [
        {
          "output_type": "stream",
          "name": "stdout",
          "text": [
            "Car make: Toyota, Model:Innova\n"
          ]
        }
      ]
    },
    {
      "cell_type": "markdown",
      "source": [
        "**3. Encapsulation**\n",
        "\n",
        "\n",
        "Encapsulation is the practice of bundling the data (attributes) and methods (functions) that operate on the data into a single unit or class. It also includes controlling access to the data to ensure that it’s only modified in controlled ways (through getter and setter methods)."
      ],
      "metadata": {
        "id": "efmue8L7b1VT"
      }
    },
    {
      "cell_type": "code",
      "source": [
        "#example of encapsulation\n",
        "class Person:\n",
        "  def __init__(self,name,age):\n",
        "    self.name=name\n",
        "    self.age=age\n",
        "  def get_name(self):\n",
        "    return self.name\n",
        "  def get_age(self):\n",
        "    return self.age\n",
        "first_person=Person(\"Kunik\",26)\n",
        "first_person.get_name()"
      ],
      "metadata": {
        "colab": {
          "base_uri": "https://localhost:8080/",
          "height": 36
        },
        "id": "IkWOdVMYblxV",
        "outputId": "cd1d9397-5948-47f8-a153-2e44d3d012be"
      },
      "execution_count": 21,
      "outputs": [
        {
          "output_type": "execute_result",
          "data": {
            "text/plain": [
              "'Kunik'"
            ],
            "application/vnd.google.colaboratory.intrinsic+json": {
              "type": "string"
            }
          },
          "metadata": {},
          "execution_count": 21
        }
      ]
    },
    {
      "cell_type": "markdown",
      "source": [
        "**4. Inheritance**\n",
        "\n",
        "\n",
        "Inheritance is the mechanism by which one class (child class) inherits attributes and methods from another class (parent class). This allows for code reuse and the creation of a hierarchical relationship between classes."
      ],
      "metadata": {
        "id": "iiq3Eux3gHOQ"
      }
    },
    {
      "cell_type": "code",
      "source": [
        "#example of inheritance\n",
        "class Vehicle:\n",
        "  def __init__(self,make):\n",
        "    self.make=make\n",
        "\n",
        "  def display_make(self):\n",
        "    print(f\"Vehicle make: {self.make}\")\n",
        "\n",
        "class Car(Vehicle): #class Vehicle is inherited in class\n",
        "  def __init__(self,make,model):\n",
        "    self.make=make\n",
        "    self.model=model\n",
        "\n",
        "  def display(self):\n",
        "    print(f\"car make: {self.make}, model:{self.model}\")\n",
        "\n",
        "car1=Car(\"toyota\",\"innova\")\n",
        "car1.display_make()\n",
        "car1.display()"
      ],
      "metadata": {
        "colab": {
          "base_uri": "https://localhost:8080/"
        },
        "id": "vdknAo2HfxQG",
        "outputId": "1bd1919c-887e-498a-ef4f-73c0387d396e"
      },
      "execution_count": 22,
      "outputs": [
        {
          "output_type": "stream",
          "name": "stdout",
          "text": [
            "Vehicle make: toyota\n",
            "car make: toyota, model:innova\n"
          ]
        }
      ]
    },
    {
      "cell_type": "markdown",
      "source": [
        "**4.5. Polymorphism**\n",
        "\n",
        "\n",
        "Polymorphism means \"many shapes\" and refers to the ability of different classes to be treated as instances of the same parent class. It allows methods in different classes to be called using the same name, promoting flexibility and extensibility in the code."
      ],
      "metadata": {
        "id": "irMxp472hst_"
      }
    },
    {
      "cell_type": "code",
      "source": [
        "#example of polymorphism\n",
        "class Dog:\n",
        "    def sound(self):\n",
        "        print(\"Bark\")\n",
        "\n",
        "class Cat:\n",
        "    def sound(self):\n",
        "        print(\"Meow\")\n",
        "\n",
        "def make_sound(animal):\n",
        "    animal.sound()\n",
        "\n",
        "dog = Dog()\n",
        "cat = Cat()\n"
      ],
      "metadata": {
        "id": "R0YVtll6hRQU"
      },
      "execution_count": 24,
      "outputs": []
    },
    {
      "cell_type": "code",
      "source": [
        "make_sound(dog)"
      ],
      "metadata": {
        "colab": {
          "base_uri": "https://localhost:8080/"
        },
        "id": "O7w_oeM4iDlg",
        "outputId": "23a71d7e-2c8f-44cf-bbaa-0373a997210d"
      },
      "execution_count": 25,
      "outputs": [
        {
          "output_type": "stream",
          "name": "stdout",
          "text": [
            "Bark\n"
          ]
        }
      ]
    },
    {
      "cell_type": "code",
      "source": [
        "make_sound(cat)"
      ],
      "metadata": {
        "colab": {
          "base_uri": "https://localhost:8080/"
        },
        "id": "pXron7q8iIfs",
        "outputId": "c46a67d8-18c7-4a97-d862-f55c07cacde6"
      },
      "execution_count": 26,
      "outputs": [
        {
          "output_type": "stream",
          "name": "stdout",
          "text": [
            "Meow\n"
          ]
        }
      ]
    },
    {
      "cell_type": "markdown",
      "source": [
        "**5 Abstraction**\n",
        "\n",
        "Abstraction is the concept of hiding the complex details and showing only the essential features of an object. It allows users to interact with objects at a higher level without knowing the inner workings."
      ],
      "metadata": {
        "id": "2AHpfPJ4iP17"
      }
    },
    {
      "cell_type": "code",
      "source": [
        "#example of abstraction\n",
        "from abc import ABC, abstractmethod\n",
        "class Shape(ABC):\n",
        "    @abstractmethod\n",
        "    def area(self):\n",
        "        pass\n",
        "\n",
        "class Rectangle(Shape):\n",
        "    def __init__(self, width, height):\n",
        "        self.width = width\n",
        "        self.height = height\n",
        "\n",
        "    def area(self):\n",
        "        return self.width * self.height\n",
        "\n",
        "rectangle = Rectangle(4, 5)\n",
        "print(rectangle.area())"
      ],
      "metadata": {
        "colab": {
          "base_uri": "https://localhost:8080/"
        },
        "id": "vGo_1FZsiKJC",
        "outputId": "4ede4603-6b16-4283-f7dd-25c5b8396199"
      },
      "execution_count": 27,
      "outputs": [
        {
          "output_type": "stream",
          "name": "stdout",
          "text": [
            "20\n"
          ]
        }
      ]
    },
    {
      "cell_type": "markdown",
      "source": [
        "# **2. Write a Python class for a `Car` with attributes for `make`, `model`, and `year`. Include a method to display the car's information.**\n",
        "\n",
        "**Ans2.**"
      ],
      "metadata": {
        "id": "3Jsxjei7i2p3"
      }
    },
    {
      "cell_type": "code",
      "source": [
        "class Car:\n",
        "  def __init__(self,make,model,year):\n",
        "    self.make=make\n",
        "    self.model=model\n",
        "    self.year=year\n",
        "\n",
        "  def display_info(self):\n",
        "    print(f\"Car make: {self.make} model:{self.model} year:{self.year}\")\n",
        "\n",
        "my_car=Car(\"Toyota\",\"Innova\",\"2024\")\n",
        "my_car.display_info()"
      ],
      "metadata": {
        "colab": {
          "base_uri": "https://localhost:8080/"
        },
        "id": "Aq8_JEmJjDwp",
        "outputId": "5b7b236e-53b2-4dc3-85ba-fd4350f68f5f"
      },
      "execution_count": 29,
      "outputs": [
        {
          "output_type": "stream",
          "name": "stdout",
          "text": [
            "Car make: Toyota model:Innova year:2024\n"
          ]
        }
      ]
    },
    {
      "cell_type": "markdown",
      "source": [
        "# **3. Explain the difference between instance methods and class methods. Provide an example of each.**\n",
        "\n",
        "**Ans3.**\n",
        "\n",
        "**1. Instance Methods**\n",
        "\n",
        "Instance methods are the most common type of method in a class. They operate on an instance of the class (an object) and can access and modify the instance’s attributes. Instance methods take self as the first parameter, which refers to the specific instance of the class."
      ],
      "metadata": {
        "id": "MO9j-q4Ij2N3"
      }
    },
    {
      "cell_type": "code",
      "source": [
        "#example of instance method\n",
        "class Car:\n",
        "    def __init__(self, make, model):\n",
        "        self.make = make\n",
        "        self.model = model\n",
        "\n",
        "    def display_info(self):\n",
        "        print(f\"Car make: {self.make}, Model: {self.model}\")\n",
        "\n",
        "# Creating an instance of the Car class\n",
        "my_car = Car(\"Toyota\", \"Corolla\")\n",
        "my_car.display_info()  # Calls the instance method"
      ],
      "metadata": {
        "colab": {
          "base_uri": "https://localhost:8080/"
        },
        "id": "yUvNnGcnjuKs",
        "outputId": "87df7b78-f857-4cee-8c1b-78f40d1313cf"
      },
      "execution_count": 30,
      "outputs": [
        {
          "output_type": "stream",
          "name": "stdout",
          "text": [
            "Car make: Toyota, Model: Corolla\n"
          ]
        }
      ]
    },
    {
      "cell_type": "markdown",
      "source": [
        "**2. Class Methods**\n",
        "\n",
        " Class methods are methods that belong to the class itself rather than to any specific instance. They take cls as the first parameter, which refers to the class. Class methods are defined using the @classmethod decorator. They can be called on the class itself or on instances of the class but cannot access instance-specific data directly."
      ],
      "metadata": {
        "id": "lgOSsU0Do8ng"
      }
    },
    {
      "cell_type": "code",
      "source": [
        "#example of class method\n",
        "class Car:\n",
        "    number_of_wheels = 4  # Class attribute\n",
        "\n",
        "    def __init__(self, make, model):\n",
        "        self.make = make\n",
        "        self.model = model\n",
        "\n",
        "    @classmethod\n",
        "    def display_wheels(cls):\n",
        "        print(f\"All cars have {cls.number_of_wheels} wheels.\")\n",
        "\n",
        "# Calling the class method\n",
        "Car.display_wheels()  # Calls the class method on the class"
      ],
      "metadata": {
        "colab": {
          "base_uri": "https://localhost:8080/"
        },
        "id": "-WPBGFDyo7Vq",
        "outputId": "d09cb198-0a88-4449-dd67-16e09b569d9a"
      },
      "execution_count": 32,
      "outputs": [
        {
          "output_type": "stream",
          "name": "stdout",
          "text": [
            "All cars have 4 wheels.\n"
          ]
        }
      ]
    },
    {
      "cell_type": "markdown",
      "source": [
        "# **4. How does Python implement method overloading? Give an example.**\n",
        "\n",
        "**Ans.4**\n",
        "\n",
        "Python does not support method overloading in the same way that languages like Java or C++ do. In those languages, you can define multiple methods with the same name but different parameter lists. However, in Python, if you define a method with the same name multiple times in the same class, the last defined method will override any previous definitions.\n",
        "\n",
        "**Implementing Method Overloading in Python**\n",
        "\n",
        "Although Python does not support method overloading directly, you can achieve similar functionality by using default arguments, variable-length arguments (*args and **kwargs), or by explicitly checking the types or number of arguments passed to a method."
      ],
      "metadata": {
        "id": "oOrJvRAjq82i"
      }
    },
    {
      "cell_type": "code",
      "source": [
        "#Example Using Default Arguments\n",
        "class MathOperations:\n",
        "    def add(self, a, b, c=0):\n",
        "        return a + b + c\n",
        "\n",
        "# Creating an instance of MathOperations\n",
        "math_op = MathOperations()\n",
        "\n",
        "# Calling the add method with different numbers of arguments\n",
        "result1 = math_op.add(2, 3)\n",
        "result2 = math_op.add(2, 3, 4)\n",
        "\n",
        "print(f\"Result of adding two numbers: {result1}\")\n",
        "print(f\"Result of adding three numbers: {result2}\")"
      ],
      "metadata": {
        "colab": {
          "base_uri": "https://localhost:8080/"
        },
        "id": "rmw0mC3Ppkln",
        "outputId": "14a13fe9-1b10-4acc-e93a-9619c8835cde"
      },
      "execution_count": 33,
      "outputs": [
        {
          "output_type": "stream",
          "name": "stdout",
          "text": [
            "Result of adding two numbers: 5\n",
            "Result of adding three numbers: 9\n"
          ]
        }
      ]
    },
    {
      "cell_type": "code",
      "source": [
        "#Example Using Variable-Length Arguments (*args)\n",
        "class MathOperations:\n",
        "    def add(self, *args):\n",
        "        return sum(args)\n",
        "\n",
        "# Creating an instance of MathOperations\n",
        "math_op = MathOperations()\n",
        "\n",
        "# Calling the add method with different numbers of arguments\n",
        "result1 = math_op.add(2, 3)\n",
        "result2 = math_op.add(2, 3, 4, 5)\n",
        "\n",
        "print(f\"Result of adding two numbers: {result1}\")\n",
        "print(f\"Result of adding four numbers: {result2}\")"
      ],
      "metadata": {
        "colab": {
          "base_uri": "https://localhost:8080/"
        },
        "id": "dEtaPPLFrofN",
        "outputId": "58b534ab-bb11-4e8a-e862-8232c6c233db"
      },
      "execution_count": 34,
      "outputs": [
        {
          "output_type": "stream",
          "name": "stdout",
          "text": [
            "Result of adding two numbers: 5\n",
            "Result of adding four numbers: 14\n"
          ]
        }
      ]
    },
    {
      "cell_type": "markdown",
      "source": [
        "# **5. What are the three types of access modifiers in Python? How are they denoted?**\n",
        "\n",
        "**Ans.**\n",
        "\n",
        "In Python, access modifiers are used to define the visibility and accessibility of class members (attributes and methods),  it uses naming conventions to indicate the intended visibility of class members. The three main types of access modifiers in Python are:\n",
        "\n",
        "**1. Public Access Modifier**\n",
        "\n",
        "Public members are accessible from any part of the program. They have no restrictions on access and can be accessed from outside the class.\n",
        "\n",
        "Public members are defined without any special prefix."
      ],
      "metadata": {
        "id": "-seb4n8er1xT"
      }
    },
    {
      "cell_type": "code",
      "source": [
        "#example of public access modifier\n",
        "class Car:\n",
        "    def __init__(self, make, model):\n",
        "        self.make = make  # Public attribute\n",
        "        self.model = model  # Public attribute\n",
        "\n",
        "    def display_info(self):\n",
        "        print(f\"Car make: {self.make}, Model: {self.model}\")\n",
        "\n",
        "# Creating an instance of the Car class\n",
        "my_car = Car(\"Toyota\", \"Corolla\")\n",
        "print(my_car.make)  # Accessing public attribute"
      ],
      "metadata": {
        "colab": {
          "base_uri": "https://localhost:8080/"
        },
        "id": "8FkAd43Irz9I",
        "outputId": "eca0dd0b-adb6-4a7a-9739-5b44fc751002"
      },
      "execution_count": 36,
      "outputs": [
        {
          "output_type": "stream",
          "name": "stdout",
          "text": [
            "Toyota\n"
          ]
        }
      ]
    },
    {
      "cell_type": "markdown",
      "source": [
        "**2. Protected Access Modifier**\n",
        "\n",
        "Protected members are intended to be accessible only within the class and its subclasses. They can still be accessed from outside the class but are not intended for public use.\n",
        "\n",
        "Protected members are defined with a single underscore (_) prefix."
      ],
      "metadata": {
        "id": "4hI65QXLsloz"
      }
    },
    {
      "cell_type": "code",
      "source": [
        "#Example of Protected Access Modifier\n",
        "class Car:\n",
        "    def __init__(self, make, model):\n",
        "        self._make = make  # Protected attribute\n",
        "        self._model = model  # Protected attribute\n",
        "\n",
        "    def display_info(self):\n",
        "        print(f\"Car make: {self._make}, Model: {self._model}\")\n",
        "\n",
        "# Subclass inheriting from Car\n",
        "class ElectricCar(Car):\n",
        "    def __init__(self, make, model, battery_size):\n",
        "        super().__init__(make, model)\n",
        "        self._battery_size = battery_size  # Protected attribute\n",
        "\n",
        "    def display_battery_info(self):\n",
        "        print(f\"Battery size: {self._battery_size} kWh\")\n",
        "\n",
        "# Creating an instance of ElectricCar\n",
        "my_electric_car = ElectricCar(\"Tesla\", \"Model S\", 100)\n",
        "my_electric_car.display_info()  # Accessing protected attribute\n",
        "my_electric_car.display_battery_info()"
      ],
      "metadata": {
        "colab": {
          "base_uri": "https://localhost:8080/"
        },
        "id": "3B1L7TZQsfly",
        "outputId": "e11be17d-3663-4435-9316-b20a19993858"
      },
      "execution_count": 38,
      "outputs": [
        {
          "output_type": "stream",
          "name": "stdout",
          "text": [
            "Car make: Tesla, Model: Model S\n",
            "Battery size: 100 kWh\n"
          ]
        }
      ]
    },
    {
      "cell_type": "markdown",
      "source": [
        "# **3. Private Access Modifier**\n",
        "\n",
        "Private members are intended to be accessible only within the class itself. They cannot be accessed from outside the class or even by subclasses.\n",
        "\n",
        " Private members are defined with a double underscore (__) prefix."
      ],
      "metadata": {
        "id": "GAtXi9s4szXb"
      }
    },
    {
      "cell_type": "code",
      "source": [
        "#example of private access modifier\n",
        "class Car:\n",
        "    def __init__(self, make, model):\n",
        "        self.__make = make  # Private attribute\n",
        "        self.__model = model  # Private attribute\n",
        "\n",
        "    def __display_info(self):  # Private method\n",
        "        print(f\"Car make: {self.__make}, Model: {self.__model}\")\n",
        "\n",
        "    def show_info(self):  # Public method to access private method\n",
        "        self.__display_info()\n",
        "\n",
        "# Creating an instance of the Car class\n",
        "my_car = Car(\"Toyota\", \"Corolla\")\n",
        "# print(my_car.__make)  # Raises an AttributeError\n",
        "my_car.show_info()  # Accessing private method through public method"
      ],
      "metadata": {
        "colab": {
          "base_uri": "https://localhost:8080/"
        },
        "id": "rqPE857LsyGR",
        "outputId": "ce67fc29-33e9-4ba0-e8e6-20078c538d8d"
      },
      "execution_count": 39,
      "outputs": [
        {
          "output_type": "stream",
          "name": "stdout",
          "text": [
            "Car make: Toyota, Model: Corolla\n"
          ]
        }
      ]
    },
    {
      "cell_type": "markdown",
      "source": [
        "# **6. Describe the five types of inheritance in Python. Provide a simple example of multiple inheritance.**\n",
        "\n",
        "**Ans6.**\n",
        "\n",
        "In Python, inheritance allows a class to inherit attributes and methods from another class. This promotes code reuse and can establish a relationship between classes. There are five types of inheritance in Python:\n",
        "\n",
        "**1. Single Inheritance**\n",
        "\n",
        "In single inheritance, a derived class inherits from a single base class."
      ],
      "metadata": {
        "id": "lVjpfZhBtUNV"
      }
    },
    {
      "cell_type": "code",
      "source": [
        "#example\n",
        "class Animal:\n",
        "    def speak(self):\n",
        "        return \"Animal speaks\"\n",
        "\n",
        "class Dog(Animal):\n",
        "    def bark(self):\n",
        "        return \"Dog barks\"\n",
        "\n",
        "# Creating an instance of Dog\n",
        "dog = Dog()\n",
        "print(dog.speak())\n",
        "print(dog.bark())"
      ],
      "metadata": {
        "colab": {
          "base_uri": "https://localhost:8080/"
        },
        "id": "SsrdRN2LtPVh",
        "outputId": "d107b427-c2b3-4390-86f4-b7e54b376d6f"
      },
      "execution_count": 40,
      "outputs": [
        {
          "output_type": "stream",
          "name": "stdout",
          "text": [
            "Animal speaks\n",
            "Dog barks\n"
          ]
        }
      ]
    },
    {
      "cell_type": "markdown",
      "source": [
        "**2. Multiple Inheritance**\n",
        "\n",
        "In multiple inheritance, a derived class can inherit from more than one base class. This allows the derived class to access methods and attributes from multiple parent classes."
      ],
      "metadata": {
        "id": "fLY6EjJltvWJ"
      }
    },
    {
      "cell_type": "code",
      "source": [
        "#example\n",
        "class Canine:\n",
        "    def bark(self):\n",
        "        return \"Bark!\"\n",
        "\n",
        "class Pet:\n",
        "    def play(self):\n",
        "        return \"Playing!\"\n",
        "\n",
        "class Dog(Canine, Pet):\n",
        "    def wag_tail(self):\n",
        "        return \"Wagging tail!\"\n",
        "\n",
        "# Creating an instance of Dog\n",
        "my_dog = Dog()\n",
        "print(my_dog.bark())\n",
        "print(my_dog.play())\n",
        "print(my_dog.wag_tail())"
      ],
      "metadata": {
        "colab": {
          "base_uri": "https://localhost:8080/"
        },
        "id": "A-DVIspMtuTK",
        "outputId": "e2a21877-3aaa-42a4-de24-78b9801246b6"
      },
      "execution_count": 41,
      "outputs": [
        {
          "output_type": "stream",
          "name": "stdout",
          "text": [
            "Bark!\n",
            "Playing!\n",
            "Wagging tail!\n"
          ]
        }
      ]
    },
    {
      "cell_type": "markdown",
      "source": [
        "**3. Multilevel Inheritance**\n",
        "\n",
        " In multilevel inheritance, a derived class inherits from a base class, and another class inherits from that derived class, forming a chain."
      ],
      "metadata": {
        "id": "TkQX8Evot-By"
      }
    },
    {
      "cell_type": "code",
      "source": [
        "#example\n",
        "class Animal:\n",
        "    def speak(self):\n",
        "        return \"Animal speaks\"\n",
        "\n",
        "class Dog(Animal):\n",
        "    def bark(self):\n",
        "        return \"Dog barks\"\n",
        "\n",
        "class Puppy(Dog):\n",
        "    def whine(self):\n",
        "        return \"Puppy whines\"\n",
        "\n",
        "# Creating an instance of Puppy\n",
        "puppy = Puppy()\n",
        "print(puppy.speak())\n",
        "print(puppy.bark())\n",
        "print(puppy.whine())"
      ],
      "metadata": {
        "colab": {
          "base_uri": "https://localhost:8080/"
        },
        "id": "gOa6OdZlt80R",
        "outputId": "af898d38-7304-4ce6-9bcd-762477c1f773"
      },
      "execution_count": 42,
      "outputs": [
        {
          "output_type": "stream",
          "name": "stdout",
          "text": [
            "Animal speaks\n",
            "Dog barks\n",
            "Puppy whines\n"
          ]
        }
      ]
    },
    {
      "cell_type": "markdown",
      "source": [
        "# **4. Hierarchical Inheritance**\n",
        "\n",
        "In hierarchical inheritance, multiple derived classes inherit from a single base class."
      ],
      "metadata": {
        "id": "c98qE2ZTuKmT"
      }
    },
    {
      "cell_type": "code",
      "source": [
        "#example\n",
        "class Animal:\n",
        "    def speak(self):\n",
        "        return \"Animal speaks\"\n",
        "\n",
        "class Dog(Animal):\n",
        "    def bark(self):\n",
        "        return \"Dog barks\"\n",
        "\n",
        "class Cat(Animal):\n",
        "    def meow(self):\n",
        "        return \"Cat meows\"\n",
        "\n",
        "# Creating instances of Dog and Cat\n",
        "dog = Dog()\n",
        "cat = Cat()\n",
        "print(dog.speak())\n",
        "print(cat.speak())\n",
        "print(dog.bark())\n",
        "print(cat.meow())"
      ],
      "metadata": {
        "colab": {
          "base_uri": "https://localhost:8080/"
        },
        "id": "00X-3Nt4uIxl",
        "outputId": "c6f63630-e658-48d6-d8a8-72221d25b3b0"
      },
      "execution_count": 43,
      "outputs": [
        {
          "output_type": "stream",
          "name": "stdout",
          "text": [
            "Animal speaks\n",
            "Animal speaks\n",
            "Dog barks\n",
            "Cat meows\n"
          ]
        }
      ]
    },
    {
      "cell_type": "markdown",
      "source": [
        "# **5. Hybrid Inheritance**\n",
        "\n",
        "Hybrid inheritance is a combination of two or more types of inheritance, which can involve multiple inheritance, multilevel inheritance, and hierarchical inheritance."
      ],
      "metadata": {
        "id": "PI_JZhdvuXyp"
      }
    },
    {
      "cell_type": "code",
      "source": [
        "#example\n",
        "class Animal:\n",
        "    def speak(self):\n",
        "        return \"Animal speaks\"\n",
        "\n",
        "class Canine(Animal):\n",
        "    def bark(self):\n",
        "        return \"Bark!\"\n",
        "\n",
        "class Feline(Animal):\n",
        "    def meow(self):\n",
        "        return \"Meow!\"\n",
        "\n",
        "class Dog(Canine):\n",
        "    def wag_tail(self):\n",
        "        return \"Wagging tail!\"\n",
        "\n",
        "class Cat(Feline):\n",
        "    def purr(self):\n",
        "        return \"Purring!\"\n",
        "\n",
        "class HybridAnimal(Dog, Cat):\n",
        "    def play(self):\n",
        "        return \"Playing with both Dog and Cat!\"\n",
        "\n",
        "# Creating an instance of HybridAnimal\n",
        "hybrid = HybridAnimal()\n",
        "print(hybrid.speak())\n",
        "print(hybrid.bark())\n",
        "print(hybrid.meow())\n",
        "print(hybrid.play())"
      ],
      "metadata": {
        "colab": {
          "base_uri": "https://localhost:8080/"
        },
        "id": "bC3Qq6obuWsp",
        "outputId": "73992a99-0e8c-48c4-e38b-14eee8af8fa2"
      },
      "execution_count": 44,
      "outputs": [
        {
          "output_type": "stream",
          "name": "stdout",
          "text": [
            "Animal speaks\n",
            "Bark!\n",
            "Meow!\n",
            "Playing with both Dog and Cat!\n"
          ]
        }
      ]
    },
    {
      "cell_type": "markdown",
      "source": [
        "# **7. What is the Method Resolution Order (MRO) in Python? How can you retrieve it programmatically?**\n",
        "\n",
        "**Ans7.**\n",
        "\n",
        "The Method Resolution Order (MRO) in Python refers to the order in which classes are searched when a method is called on an instance of a class. This is particularly important in the context of multiple inheritance, where a method might be defined in several parent classes.\n",
        "\n",
        "**MRO Rules:**\n",
        "\n",
        "\n",
        "**Parents First:** The MRO searches the immediate parent class first before looking at the parents of the parent class.\n",
        "\n",
        "\n",
        "**Left-to-Right:** The MRO follows a left-to-right depth-first search in the order the parent classes are listed.\n",
        "\n",
        "\n",
        "**No Diamond Problem**: The algorithm resolves the \"diamond problem\" by ensuring that a class is only called once in the hierarchy, preventing ambiguity in method resolution.\n",
        "\n",
        "**Retrieving MRO Programmatically**\n",
        "\n",
        "\n",
        "You can retrieve the MRO of a class using the mro() method or the __ mro __ attribute. Here’s how to do it:"
      ],
      "metadata": {
        "id": "vK6mT8PRuof_"
      }
    },
    {
      "cell_type": "code",
      "source": [
        "class A:\n",
        "    def method(self):\n",
        "        return \"Method from A\"\n",
        "\n",
        "class B(A):\n",
        "    def method(self):\n",
        "        return \"Method from B\"\n",
        "\n",
        "class C(A):\n",
        "    def method(self):\n",
        "        return \"Method from C\"\n",
        "\n",
        "class D(B, C):\n",
        "    pass\n",
        "\n",
        "# Creating an instance of D\n",
        "d = D()\n",
        "print(d.method())  # Output: Method from B\n",
        "\n",
        "# Retrieve MRO using the mro() method\n",
        "print(D.mro())        # Output: [<class '__main__.D'>, <class '__main__.B'>, <class '__main__.C'>, <class '__main__.A'>, <class 'object'>]\n",
        "\n",
        "# Retrieve MRO using the __mro__ attribute\n",
        "print(D.__mro__)     # Output: (<class '__main__.D'>, <class '__main__.B'>, <class '__main__.C'>, <class '__main__.A'>, <class 'object'>)\n"
      ],
      "metadata": {
        "colab": {
          "base_uri": "https://localhost:8080/"
        },
        "id": "FITjYjFtumd1",
        "outputId": "470f994f-9aac-4f66-fa85-1bfc1d8eedfe"
      },
      "execution_count": 45,
      "outputs": [
        {
          "output_type": "stream",
          "name": "stdout",
          "text": [
            "Method from B\n",
            "[<class '__main__.D'>, <class '__main__.B'>, <class '__main__.C'>, <class '__main__.A'>, <class 'object'>]\n",
            "(<class '__main__.D'>, <class '__main__.B'>, <class '__main__.C'>, <class '__main__.A'>, <class 'object'>)\n"
          ]
        }
      ]
    },
    {
      "cell_type": "code",
      "source": [
        "from abc import ABC, abstractmethod\n",
        "import math\n",
        "\n",
        "class Shape(ABC):\n",
        "    @abstractmethod\n",
        "    def area(self):\n",
        "        pass\n",
        "\n",
        "class Circle(Shape):\n",
        "    def __init__(self, radius):\n",
        "        self.radius = radius\n",
        "\n",
        "    def area(self):\n",
        "        return math.pi * (self.radius ** 2)  # Area of circle: πr²\n",
        "\n",
        "class Rectangle(Shape):\n",
        "    def __init__(self, width, height):\n",
        "        self.width = width\n",
        "        self.height = height\n",
        "\n",
        "    def area(self):\n",
        "        return self.width * self.height  # Area of rectangle: width * height\n",
        "\n",
        "# Creating instances of Circle and Rectangle\n",
        "circle = Circle(5)\n",
        "rectangle = Rectangle(4, 6)\n",
        "\n",
        "# Calculating and displaying the area\n",
        "print(f\"Area of the Circle: {circle.area():.2f}\")  # Output: Area of the Circle: 78.54\n",
        "print(f\"Area of the Rectangle: {rectangle.area()}\")  # Output: Area of the Rectangle: 24\n"
      ],
      "metadata": {
        "colab": {
          "base_uri": "https://localhost:8080/"
        },
        "id": "Qor0LnKmvlrj",
        "outputId": "2c06d902-e9dc-45b5-c329-666784f408d7"
      },
      "execution_count": 46,
      "outputs": [
        {
          "output_type": "stream",
          "name": "stdout",
          "text": [
            "Area of the Circle: 78.54\n",
            "Area of the Rectangle: 24\n"
          ]
        }
      ]
    },
    {
      "cell_type": "markdown",
      "source": [
        "# **9. Demonstrate polymorphism by creating a function that can work with different shape objects to calculate and print their areas.**\n",
        "\n",
        "**Ans9.**\n",
        "\n",
        "Polymorphism in Python allows different classes to be treated as instances of the same class through a common interface. This means you can define a function that operates on objects of different classes, as long as they implement the same method."
      ],
      "metadata": {
        "id": "jIoHt8gBvwKX"
      }
    },
    {
      "cell_type": "code",
      "source": [
        "#example\n",
        "from abc import ABC, abstractmethod\n",
        "import math\n",
        "\n",
        "# Abstract base class Shape\n",
        "class Shape(ABC):\n",
        "    @abstractmethod\n",
        "    def area(self):\n",
        "        pass\n",
        "\n",
        "# Circle class\n",
        "class Circle(Shape):\n",
        "    def __init__(self, radius):\n",
        "        self.radius = radius\n",
        "\n",
        "    def area(self):\n",
        "        return math.pi * (self.radius ** 2)  # Area of circle: πr²\n",
        "\n",
        "# Rectangle class\n",
        "class Rectangle(Shape):\n",
        "    def __init__(self, width, height):\n",
        "        self.width = width\n",
        "        self.height = height\n",
        "\n",
        "    def area(self):\n",
        "        return self.width * self.height  # Area of rectangle: width * height\n",
        "\n",
        "# Function to calculate and print the area of different shapes\n",
        "def print_shape_areas(shapes):\n",
        "    for shape in shapes:\n",
        "        print(f\"Area of {shape.__class__.__name__}: {shape.area():.2f}\")\n",
        "\n",
        "# Creating instances of Circle and Rectangle\n",
        "shapes = [\n",
        "    Circle(5),\n",
        "    Rectangle(4, 6),\n",
        "    Circle(3),\n",
        "    Rectangle(2, 8)\n",
        "]\n",
        "\n",
        "# Calling the function to print areas\n",
        "print_shape_areas(shapes)\n"
      ],
      "metadata": {
        "colab": {
          "base_uri": "https://localhost:8080/"
        },
        "id": "STfhiJKnvvLr",
        "outputId": "cbe15a2f-f360-4100-df41-75af8db0e1b3"
      },
      "execution_count": 47,
      "outputs": [
        {
          "output_type": "stream",
          "name": "stdout",
          "text": [
            "Area of Circle: 78.54\n",
            "Area of Rectangle: 24.00\n",
            "Area of Circle: 28.27\n",
            "Area of Rectangle: 16.00\n"
          ]
        }
      ]
    },
    {
      "cell_type": "markdown",
      "source": [
        "# **10. Implement encapsulation in a `BankAccount` class with private attributes for `balance` and `account_number`. Include methods for deposit, withdrawal, and balance inquiry.**\n",
        "\n",
        "**Ans10.**"
      ],
      "metadata": {
        "id": "AqFePoxvwhhl"
      }
    },
    {
      "cell_type": "code",
      "source": [
        "class BankAccount:\n",
        "    def __init__(self, account_number, initial_balance=0.0):\n",
        "        self.__account_number = account_number  # Private attribute\n",
        "        self.__balance = initial_balance  # Private attribute\n",
        "\n",
        "    def deposit(self, amount):\n",
        "        \"\"\"Deposit money into the account.\"\"\"\n",
        "        if amount > 0:\n",
        "            self.__balance += amount\n",
        "            print(f\"Deposited: ${amount:.2f}. New balance: ${self.__balance:.2f}\")\n",
        "        else:\n",
        "            print(\"Deposit amount must be positive.\")\n",
        "\n",
        "    def withdraw(self, amount):\n",
        "        \"\"\"Withdraw money from the account.\"\"\"\n",
        "        if amount > 0:\n",
        "            if amount <= self.__balance:\n",
        "                self.__balance -= amount\n",
        "                print(f\"Withdrew: ${amount:.2f}. New balance: ${self.__balance:.2f}\")\n",
        "            else:\n",
        "                print(\"Insufficient funds for this withdrawal.\")\n",
        "        else:\n",
        "            print(\"Withdrawal amount must be positive.\")\n",
        "\n",
        "    def inquire_balance(self):\n",
        "        \"\"\"Return the current balance.\"\"\"\n",
        "        return self.__balance\n",
        "\n",
        "    def get_account_number(self):\n",
        "        \"\"\"Return the account number.\"\"\"\n",
        "        return self.__account_number\n",
        "\n",
        "# Example usage\n",
        "if __name__ == \"__main__\":\n",
        "    account = BankAccount(\"123456789\", 1000.00)\n",
        "\n",
        "    print(f\"Account Number: {account.get_account_number()}\")\n",
        "    print(f\"Initial Balance: ${account.inquire_balance():.2f}\")\n",
        "\n",
        "    account.deposit(500)\n",
        "    account.withdraw(200)\n",
        "    print(f\"Final Balance: ${account.inquire_balance():.2f}\")\n",
        "\n",
        "    account.withdraw(2000)  # Attempt to withdraw more than the balance\n"
      ],
      "metadata": {
        "colab": {
          "base_uri": "https://localhost:8080/"
        },
        "id": "A5rAfRrTwV3x",
        "outputId": "3a0894df-0230-4036-cb20-222302da9640"
      },
      "execution_count": 48,
      "outputs": [
        {
          "output_type": "stream",
          "name": "stdout",
          "text": [
            "Account Number: 123456789\n",
            "Initial Balance: $1000.00\n",
            "Deposited: $500.00. New balance: $1500.00\n",
            "Withdrew: $200.00. New balance: $1300.00\n",
            "Final Balance: $1300.00\n",
            "Insufficient funds for this withdrawal.\n"
          ]
        }
      ]
    },
    {
      "cell_type": "markdown",
      "source": [
        "# **11. Write a class that overrides the `__str__` and `__add__` magic methods. What will these methods allow you to do?**\n",
        "\n",
        "Ans11.\n",
        "\n",
        "The methods will allow us to do:\n",
        "\n",
        "**Custom String Representation:**\n",
        "\n",
        " By overriding __ str __, we provide a clear and meaningful way to represent your objects when printed, which improves code readability and debugging.\n",
        "\n",
        "\n",
        "**Custom Addition Behavior:**\n",
        "\n",
        " Overriding __ add __ allows us to define how our objects interact with the addition operator, making your classes more intuitive to use. This is particularly useful in mathematical contexts, where we might want to add vectors, matrices, or other mathematical objects seamlessly."
      ],
      "metadata": {
        "id": "_v41dZkswlrG"
      }
    },
    {
      "cell_type": "code",
      "source": [
        "class Vector:\n",
        "    def __init__(self, x, y):\n",
        "        self.x = x  # x-coordinate\n",
        "        self.y = y  # y-coordinate\n",
        "\n",
        "    def __str__(self):\n",
        "        \"\"\"Return a string representation of the vector.\"\"\"\n",
        "        return f\"Vector({self.x}, {self.y})\"\n",
        "\n",
        "    def __add__(self, other):\n",
        "        \"\"\"Add two vectors.\"\"\"\n",
        "        if isinstance(other, Vector):\n",
        "            return Vector(self.x + other.x, self.y + other.y)\n",
        "        return NotImplemented  # Return NotImplemented if the addition is not supported\n",
        "\n",
        "# Example usage\n",
        "if __name__ == \"__main__\":\n",
        "    v1 = Vector(2, 3)\n",
        "    v2 = Vector(4, 5)\n",
        "\n",
        "    print(v1)             # Output: Vector(2, 3)\n",
        "    print(v2)             # Output: Vector(4, 5)\n",
        "\n",
        "    v3 = v1 + v2         # Using the overridden __add__ method\n",
        "    print(v3)            # Output: Vector(6, 8)\n"
      ],
      "metadata": {
        "colab": {
          "base_uri": "https://localhost:8080/"
        },
        "id": "R_Q3njyowgyY",
        "outputId": "251094f8-b16b-415d-df4c-ba9b749ffff1"
      },
      "execution_count": 50,
      "outputs": [
        {
          "output_type": "stream",
          "name": "stdout",
          "text": [
            "Vector(2, 3)\n",
            "Vector(4, 5)\n",
            "Vector(6, 8)\n"
          ]
        }
      ]
    },
    {
      "cell_type": "markdown",
      "source": [
        "# **12. Create a decorator that measures and prints the execution time of a function.**\n",
        "\n",
        "Ans12.\n",
        "\n"
      ],
      "metadata": {
        "id": "isw19YeJxZIh"
      }
    },
    {
      "cell_type": "code",
      "source": [
        "import time\n",
        "\n",
        "def measure_time(func):\n",
        "    \"\"\"Decorator to measure the execution time of a function.\"\"\"\n",
        "    def wrapper(*args, **kwargs):\n",
        "        start_time = time.time()  # Record the start time\n",
        "        result = func(*args, **kwargs)  # Call the original function\n",
        "        end_time = time.time()  # Record the end time\n",
        "        execution_time = end_time - start_time  # Calculate execution time\n",
        "        print(f\"Execution time of {func.__name__}: {execution_time:.6f} seconds\")\n",
        "        return result  # Return the result of the original function\n",
        "    return wrapper\n",
        "\n",
        "# Example usage of the decorator\n",
        "@measure_time\n",
        "def example_function(n):\n",
        "    \"\"\"A simple function that sums up numbers from 1 to n.\"\"\"\n",
        "    total = sum(range(1, n + 1))\n",
        "    return total\n",
        "\n",
        "if __name__ == \"__main__\":\n",
        "    result = example_function(1000000)  # Call the decorated function\n",
        "    print(f\"Result: {result}\")\n"
      ],
      "metadata": {
        "colab": {
          "base_uri": "https://localhost:8080/"
        },
        "id": "lXabH8DLw4C-",
        "outputId": "e7595991-0db2-444b-9578-cf8ec1f37931"
      },
      "execution_count": 51,
      "outputs": [
        {
          "output_type": "stream",
          "name": "stdout",
          "text": [
            "Execution time of example_function: 0.052475 seconds\n",
            "Result: 500000500000\n"
          ]
        }
      ]
    },
    {
      "cell_type": "markdown",
      "source": [
        "# **13. Explain the concept of the Diamond Problem in multiple inheritance. How does Python resolve it?**\n",
        "\n",
        "**Ans13.**\n",
        "\n",
        "The Diamond Problem is a well-known issue in multiple inheritance where a class inherits from two classes that both inherit from a common base class. This situation can lead to ambiguity regarding which superclass method or attribute should be invoked when an instance of the derived class calls them.\n",
        "\n",
        "      A\n",
        "     / \\\n",
        "    B   C\n",
        "     \\ /\n",
        "      D\n"
      ],
      "metadata": {
        "id": "H_XCxUORxjwl"
      }
    },
    {
      "cell_type": "code",
      "source": [
        "#example\n",
        "class A:\n",
        "    def greet(self):\n",
        "        print(\"Hello from A!\")\n",
        "\n",
        "class B(A):\n",
        "    def greet(self):\n",
        "        print(\"Hello from B!\")\n",
        "\n",
        "class C(A):\n",
        "    def greet(self):\n",
        "        print(\"Hello from C!\")\n",
        "\n",
        "class D(B, C):\n",
        "    pass\n",
        "\n",
        "# Example usage\n",
        "d = D()\n",
        "d.greet()"
      ],
      "metadata": {
        "colab": {
          "base_uri": "https://localhost:8080/"
        },
        "id": "2oArJidPxiYo",
        "outputId": "ede272e3-47df-41a9-9cf6-f5d61818bdc0"
      },
      "execution_count": 52,
      "outputs": [
        {
          "output_type": "stream",
          "name": "stdout",
          "text": [
            "Hello from B!\n"
          ]
        }
      ]
    },
    {
      "cell_type": "markdown",
      "source": [
        "**How Python Resolves the Diamond Problem**\n",
        "\n",
        "Python uses a method resolution order (MRO) algorithm, specifically the C3 linearization algorithm, to resolve such ambiguities in multiple inheritance scenarios. The MRO determines the order in which classes are looked up when searching for a method or attribute.\n",
        "\n",
        "Key Points of the C3 Linearization Algorithm\n",
        "\n",
        "\n",
        "**Order of Inheritance**: The order of inheritance specified in the class definition is taken into account.\n",
        "\n",
        "\n",
        "**Parent Class Preference:** The search will look for the method in the classes in the order they are inherited, prioritizing the leftmost class first.\n",
        "\n",
        "\n",
        "**No Repetition:** Each class is only considered once in the resolution order, preventing circular references."
      ],
      "metadata": {
        "id": "b_zNCCBUyDXb"
      }
    },
    {
      "cell_type": "markdown",
      "source": [
        "# **14. Write a class method that keeps track of the number of instances created from a class.**\n",
        "\n",
        "**Ans14.**\n"
      ],
      "metadata": {
        "id": "mMX3opbVyXG2"
      }
    },
    {
      "cell_type": "code",
      "source": [
        "class InstanceCounter:\n",
        "    # Class variable to keep track of the number of instances\n",
        "    instance_count = 0\n",
        "\n",
        "    def __init__(self):\n",
        "        # Increment the instance count each time a new instance is created\n",
        "        InstanceCounter.instance_count += 1\n",
        "\n",
        "    @classmethod\n",
        "    def get_instance_count(cls):\n",
        "        \"\"\"Class method to return the number of instances created.\"\"\"\n",
        "        return cls.instance_count\n",
        "\n",
        "# Example usage\n",
        "if __name__ == \"__main__\":\n",
        "    obj1 = InstanceCounter()\n",
        "    obj2 = InstanceCounter()\n",
        "    obj3 = InstanceCounter()\n",
        "\n",
        "    # Get the current instance count\n",
        "    print(f\"Number of instances created: {InstanceCounter.get_instance_count()}\")\n"
      ],
      "metadata": {
        "colab": {
          "base_uri": "https://localhost:8080/"
        },
        "id": "G6BosjM8x_IQ",
        "outputId": "c3b452c1-95ad-4705-c16d-781ddf50d154"
      },
      "execution_count": 53,
      "outputs": [
        {
          "output_type": "stream",
          "name": "stdout",
          "text": [
            "Number of instances created: 3\n"
          ]
        }
      ]
    },
    {
      "cell_type": "markdown",
      "source": [
        "# **15. Implement a static method in a class that checks if a given year is a leap year.**\n",
        "\n",
        "**Ans15.**"
      ],
      "metadata": {
        "id": "TIFfbar0yeoV"
      }
    },
    {
      "cell_type": "code",
      "source": [
        "class YearUtils:\n",
        "    @staticmethod\n",
        "    def is_leap_year(year):\n",
        "        \"\"\"Check if a given year is a leap year.\"\"\"\n",
        "        if (year % 4 == 0 and year % 100 != 0) or (year % 400 == 0):\n",
        "            return True\n",
        "        return False\n",
        "\n",
        "# Example usage\n",
        "if __name__ == \"__main__\":\n",
        "    year = 2024\n",
        "    if YearUtils.is_leap_year(year):\n",
        "        print(f\"{year} is a leap year.\")\n",
        "    else:\n",
        "        print(f\"{year} is not a leap year.\")\n",
        "\n",
        "    year = 1900\n",
        "    if YearUtils.is_leap_year(year):\n",
        "        print(f\"{year} is a leap year.\")\n",
        "    else:\n",
        "        print(f\"{year} is not a leap year.\")\n"
      ],
      "metadata": {
        "colab": {
          "base_uri": "https://localhost:8080/"
        },
        "id": "H2zgaerYydQL",
        "outputId": "ccac8779-1b01-424a-8670-5715ea460ef8"
      },
      "execution_count": 55,
      "outputs": [
        {
          "output_type": "stream",
          "name": "stdout",
          "text": [
            "2024 is a leap year.\n",
            "1900 is not a leap year.\n"
          ]
        }
      ]
    },
    {
      "cell_type": "code",
      "source": [],
      "metadata": {
        "id": "S5mqKoPkyl6C"
      },
      "execution_count": null,
      "outputs": []
    }
  ]
}